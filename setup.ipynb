{
 "cells": [
  {
   "cell_type": "markdown",
   "metadata": {
    "id": "pA_4ecsgHKKY"
   },
   "source": [
    "# Set the Working Directory"
   ]
  },
  {
   "cell_type": "code",
   "execution_count": null,
   "metadata": {
    "colab": {
     "base_uri": "https://localhost:8080/"
    },
    "executionInfo": {
     "elapsed": 5,
     "status": "ok",
     "timestamp": 1742675343105,
     "user": {
      "displayName": "Aoyu Gong",
      "userId": "08110456228788635196"
     },
     "user_tz": -60
    },
    "id": "LjPsv8alHKRk",
    "outputId": "fa9ce24a-0dbe-445f-bef8-d5b59fddf276"
   },
   "outputs": [],
   "source": [
    "import os\n",
    "\n",
    "working_dir = os.getcwd()\n",
    "\n",
    "if os.path.isdir(working_dir):\n",
    "    print(\"Working directory is ready!\")\n",
    "else:\n",
    "    raise ValueError(\"Working directory does not exist\")"
   ]
  },
  {
   "cell_type": "markdown",
   "metadata": {},
   "source": [
    "# Create the `models` Directory"
   ]
  },
  {
   "cell_type": "code",
   "execution_count": null,
   "metadata": {},
   "outputs": [],
   "source": [
    "os.makedirs(working_dir + \"/models\", exist_ok=True)"
   ]
  },
  {
   "cell_type": "markdown",
   "metadata": {
    "id": "1TVmIdMdcJtP"
   },
   "source": [
    "# Clone the Repositories of [`Video-LLaMA`](https://github.com/DAMO-NLP-SG/Video-LLaMA/tree/main)\n",
    "\n",
    "This step might take around 1 hour — hang tight! ⏲😴"
   ]
  },
  {
   "cell_type": "code",
   "execution_count": null,
   "metadata": {
    "colab": {
     "base_uri": "https://localhost:8080/"
    },
    "executionInfo": {
     "elapsed": 3622874,
     "status": "ok",
     "timestamp": 1742678967644,
     "user": {
      "displayName": "Aoyu Gong",
      "userId": "08110456228788635196"
     },
     "user_tz": -60
    },
    "id": "hriuo1FBGT18",
    "outputId": "b2c73af1-2f25-4c94-9008-fd71f3974b7b"
   },
   "outputs": [],
   "source": [
    "# Clone the code repository of Video-LLaMA\n",
    "%cd {working_dir}/models\n",
    "!git clone https://github.com/DAMO-NLP-SG/Video-LLaMA.git\n",
    "\n",
    "%cd {working_dir}/models/Video-LLaMA\n",
    "!git checkout 314f7dce044afa2bf32bce3b3729712861f058ac\n",
    "\n",
    "# Clone the model repositories of Video-LLaMA\n",
    "!git lfs install\n",
    "\n",
    "# Model 1 : DAMO-NLP-SG/Video-LLaMA-2-7B-Finetuned\n",
    "# https://huggingface.co/DAMO-NLP-SG/Video-LLaMA-2-7B-Finetuned/tree/main\n",
    "!GIT_TRACE=1 GIT_CURL_VERBOSE=1 git clone https://huggingface.co/DAMO-NLP-SG/Video-LLaMA-2-7B-Finetuned\n",
    "\n",
    "# Model 2 : DAMO-NLP-SG/Video-LLaMA-2-13B-Finetuned\n",
    "# https://huggingface.co/DAMO-NLP-SG/Video-LLaMA-2-13B-Finetuned/tree/main\n",
    "!GIT_TRACE=1 GIT_CURL_VERBOSE=1 git clone https://huggingface.co/DAMO-NLP-SG/Video-LLaMA-2-13B-Finetuned\n",
    "\n",
    "!ls"
   ]
  },
  {
   "cell_type": "code",
   "execution_count": null,
   "metadata": {
    "executionInfo": {
     "elapsed": 37,
     "status": "ok",
     "timestamp": 1742679727681,
     "user": {
      "displayName": "Aoyu Gong",
      "userId": "08110456228788635196"
     },
     "user_tz": -60
    },
    "id": "DtSvJ12sjiFD"
   },
   "outputs": [],
   "source": [
    "import yaml\n",
    "\n",
    "config_path = working_dir + \"/models/Video-LLaMA/eval_configs\"\n",
    "\n",
    "with open(config_path + \"/video_llama_eval_withaudio.yaml\", \"r\") as file:\n",
    "    content = file.read()\n",
    "\n",
    "content = content.replace(\n",
    "    'llama_model: \"ckpt/vicuna-13b/\" or \"ckpt/vicuna-7b/\" or \"ckpt/llama-2-7b-chat-hf\"  or \"ckpt/llama-2-13b-chat-hf\"',\n",
    "    'llama_model: \"ckpt/llama-2-7b-chat-hf\"'\n",
    ")\n",
    "\n",
    "config = yaml.safe_load(content)\n",
    "\n",
    "# Create the YAML for Video-LLaMA-2-7B-Finetuned\n",
    "config_7b = config.copy()\n",
    "config_7b['model']['llama_model'] = \"Video-LLaMA-2-7B-Finetuned/llama-2-7b-chat-hf/\"\n",
    "config_7b['model']['imagebind_ckpt_path'] = \"Video-LLaMA-2-7B-Finetuned/\"\n",
    "config_7b['model']['ckpt'] = \"Video-LLaMA-2-7B-Finetuned/VL_LLaMA_2_7B_Finetuned.pth\"\n",
    "config_7b['model']['ckpt_2'] = \"Video-LLaMA-2-7B-Finetuned/AL_LLaMA_2_7B_Finetuned.pth\"\n",
    "\n",
    "with open(config_path + \"/video_llama_eval_withaudio_7b.yaml\", \"w\") as file:\n",
    "    yaml.dump(config_7b, file)\n",
    "\n",
    "# Create the YAML for Video-LLaMA-2-13B-Finetuned\n",
    "config_13b = config.copy()\n",
    "config_13b['model']['llama_model'] = \"Video-LLaMA-2-13B-Finetuned/llama-2-13b-chat-hf/\"\n",
    "config_13b['model']['imagebind_ckpt_path'] = \"Video-LLaMA-2-13B-Finetuned/\"\n",
    "config_13b['model']['ckpt'] = \"Video-LLaMA-2-13B-Finetuned/VL_LLaMA_2_13B_Finetuned.pth\"\n",
    "config_13b['model']['ckpt_2'] = \"Video-LLaMA-2-13B-Finetuned/AL_LLaMA_2_13B_Finetuned.pth\"\n",
    "\n",
    "with open(config_path + \"/video_llama_eval_withaudio_13b.yaml\", \"w\") as file:\n",
    "    yaml.dump(config_13b, file)"
   ]
  },
  {
   "cell_type": "markdown",
   "metadata": {},
   "source": [
    "# Clone the Repositories of [`ImageBind`](https://github.com/facebookresearch/ImageBind)"
   ]
  },
  {
   "cell_type": "code",
   "execution_count": null,
   "metadata": {},
   "outputs": [],
   "source": [
    "# Clone the code repository of ImageBind\n",
    "%cd {working_dir}/models\n",
    "!git clone https://github.com/facebookresearch/ImageBind.git\n",
    "\n",
    "%cd {working_dir}/models/ImageBind\n",
    "!git checkout c6a47d6dc2b53eced51d398c181d57049ca59286"
   ]
  }
 ],
 "metadata": {
  "colab": {
   "authorship_tag": "ABX9TyPd3UEB70QFw0KeJ9k6LiuM",
   "provenance": []
  },
  "kernelspec": {
   "display_name": "clipmind",
   "language": "python",
   "name": "python3"
  },
  "language_info": {
   "codemirror_mode": {
    "name": "ipython",
    "version": 3
   },
   "file_extension": ".py",
   "mimetype": "text/x-python",
   "name": "python",
   "nbconvert_exporter": "python",
   "pygments_lexer": "ipython3",
   "version": "3.9.19"
  }
 },
 "nbformat": 4,
 "nbformat_minor": 0
}
