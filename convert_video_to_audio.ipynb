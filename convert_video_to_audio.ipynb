{
 "cells": [
  {
   "cell_type": "markdown",
   "metadata": {
    "id": "xI9jPNb0Q-A_"
   },
   "source": [
    "# Set the Working Directory"
   ]
  },
  {
   "cell_type": "code",
   "execution_count": null,
   "metadata": {
    "colab": {
     "base_uri": "https://localhost:8080/"
    },
    "executionInfo": {
     "elapsed": 19454,
     "status": "ok",
     "timestamp": 1706046772797,
     "user": {
      "displayName": "Aoyu Gong",
      "userId": "08110456228788635196"
     },
     "user_tz": -60
    },
    "id": "hog8RbM_Q-l3",
    "outputId": "dd9fa109-2b5d-42f5-fc2f-5cf18cbebd3d"
   },
   "outputs": [],
   "source": [
    "import os\n",
    "\n",
    "working_dir = os.getcwd()\n",
    "\n",
    "if os.path.isdir(working_dir):\n",
    "    print(\"Working directory is ready!\")\n",
    "else:\n",
    "    raise ValueError(\"Working directory does not exist\")"
   ]
  },
  {
   "cell_type": "markdown",
   "metadata": {
    "id": "KypUDuUDocVe"
   },
   "source": [
    "# Set the Trace Directory"
   ]
  },
  {
   "cell_type": "code",
   "execution_count": null,
   "metadata": {
    "colab": {
     "base_uri": "https://localhost:8080/"
    },
    "executionInfo": {
     "elapsed": 2799,
     "status": "ok",
     "timestamp": 1706046776887,
     "user": {
      "displayName": "Aoyu Gong",
      "userId": "08110456228788635196"
     },
     "user_tz": -60
    },
    "id": "3P-rfX0rocnl",
    "outputId": "81a4dc54-014c-42df-c8f3-4c6a3c8eec64"
   },
   "outputs": [],
   "source": [
    "import yaml\n",
    "\n",
    "# Load configuration file\n",
    "config_path = os.path.join(working_dir, \"configuration.yaml\")\n",
    "with open(config_path, \"r\") as f:\n",
    "    config = yaml.safe_load(f)\n",
    "\n",
    "# Resolve trace directory\n",
    "trace_dir = os.path.join(working_dir, \"data\", config[\"working_trace\"])\n",
    "\n",
    "if os.path.isdir(trace_dir):\n",
    "    print(f\"✅ Trace directory ready: {trace_dir}\")\n",
    "else:\n",
    "    raise FileNotFoundError(f\"❌ Trace directory not found: {trace_dir}\\n\")"
   ]
  },
  {
   "cell_type": "code",
   "execution_count": null,
   "metadata": {},
   "outputs": [],
   "source": [
    "from utils import read_file_ids\n",
    "\n",
    "# Read file IDs from the trace directory\n",
    "file_ids = read_file_ids(trace_dir=trace_dir, overwrite=False)\n",
    "\n",
    "print(f\"📁 Total video files found: {len(file_ids)}\")"
   ]
  },
  {
   "cell_type": "markdown",
   "metadata": {
    "id": "mTG5iZ5qGSu4"
   },
   "source": [
    "# Convert Video to Audio Using `ffmpeg`"
   ]
  },
  {
   "cell_type": "code",
   "execution_count": null,
   "metadata": {
    "colab": {
     "base_uri": "https://localhost:8080/"
    },
    "executionInfo": {
     "elapsed": 19026,
     "status": "ok",
     "timestamp": 1701966547060,
     "user": {
      "displayName": "Aoyu Gong",
      "userId": "08110456228788635196"
     },
     "user_tz": -60
    },
    "id": "u2RRIIciCsvu",
    "outputId": "188b537e-39cf-4269-eb07-1007ea287d0a"
   },
   "outputs": [],
   "source": [
    "import subprocess\n",
    "\n",
    "video_dir = os.path.join(trace_dir, \"videos\")\n",
    "audio_dir = os.path.join(trace_dir, \"audios\")\n",
    "os.makedirs(audio_dir, exist_ok=True)\n",
    "\n",
    "for idx, file_id in enumerate(file_ids, start=1):\n",
    "    audio_path = os.path.join(audio_dir, f\"{file_id}.mp3\")\n",
    "\n",
    "    if os.path.exists(audio_path):\n",
    "        print(f\"✔️ Audio already exists: {file_id}.mp3\")\n",
    "        continue\n",
    "\n",
    "    print(f\"🔄 [{idx}/{len(file_ids)}] Extracting audio: {file_id}.mp3\")\n",
    "\n",
    "    video_path = os.path.join(video_dir, f\"{file_id}.mp4\")\n",
    "    \n",
    "    command = f'ffmpeg -y -i \"{video_path}\" \"{audio_path}\"'\n",
    "    result = subprocess.run(command, shell=True, capture_output=True)\n",
    "\n",
    "    if result.returncode != 0:\n",
    "        print(f\"❌ Failed to extract audio for {file_id}.mp4\")\n",
    "        print(result.stderr.decode())\n",
    "    else:\n",
    "        print(f\"✅ Audio extracted: {file_id}.mp3\")"
   ]
  }
 ],
 "metadata": {
  "colab": {
   "authorship_tag": "ABX9TyO6dJBTqzOr9WyoMBcWeGs/",
   "machine_shape": "hm",
   "provenance": []
  },
  "kernelspec": {
   "display_name": "clipmind",
   "language": "python",
   "name": "python3"
  },
  "language_info": {
   "codemirror_mode": {
    "name": "ipython",
    "version": 3
   },
   "file_extension": ".py",
   "mimetype": "text/x-python",
   "name": "python",
   "nbconvert_exporter": "python",
   "pygments_lexer": "ipython3",
   "version": "3.9.19"
  }
 },
 "nbformat": 4,
 "nbformat_minor": 0
}
