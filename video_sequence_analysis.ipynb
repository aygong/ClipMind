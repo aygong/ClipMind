{
 "cells": [
  {
   "cell_type": "markdown",
   "metadata": {},
   "source": [
    "# Set the Working Directory"
   ]
  },
  {
   "cell_type": "code",
   "execution_count": null,
   "metadata": {},
   "outputs": [],
   "source": [
    "import os\n",
    "\n",
    "working_dir = os.getcwd()\n",
    "\n",
    "if os.path.isdir(working_dir):\n",
    "    print(\"Working directory is ready!\")\n",
    "else:\n",
    "    raise ValueError(\"Working directory does not exist\")"
   ]
  },
  {
   "cell_type": "markdown",
   "metadata": {
    "id": "plG19t2RFbK8"
   },
   "source": [
    "# Set the Trace Directory"
   ]
  },
  {
   "cell_type": "code",
   "execution_count": null,
   "metadata": {
    "colab": {
     "base_uri": "https://localhost:8080/"
    },
    "executionInfo": {
     "elapsed": 2942,
     "status": "ok",
     "timestamp": 1706730091080,
     "user": {
      "displayName": "Aoyu Gong",
      "userId": "08110456228788635196"
     },
     "user_tz": -60
    },
    "id": "tDDU2H8xDTdy",
    "outputId": "f70305b7-019f-49a4-ccff-cbc1e8b469e9"
   },
   "outputs": [],
   "source": [
    "import yaml\n",
    "\n",
    "# Load configuration file\n",
    "config_path = os.path.join(working_dir, \"configuration.yaml\")\n",
    "with open(config_path, \"r\") as f:\n",
    "    config = yaml.safe_load(f)\n",
    "\n",
    "# Resolve trace directory\n",
    "trace_dir = os.path.join(working_dir, \"data\", config[\"working_trace\"])\n",
    "\n",
    "if os.path.isdir(trace_dir):\n",
    "    print(f\"✅ Trace directory ready: {trace_dir}\")\n",
    "else:\n",
    "    raise FileNotFoundError(f\"❌ Trace directory not found: {trace_dir}\\n\")"
   ]
  },
  {
   "cell_type": "code",
   "execution_count": null,
   "metadata": {},
   "outputs": [],
   "source": [
    "from utils import read_file_ids\n",
    "\n",
    "# Read file IDs from the trace directory\n",
    "file_ids = read_file_ids(trace_dir=trace_dir, overwrite=False)\n",
    "\n",
    "print(f\"📁 Total video files found: {len(file_ids)}\")"
   ]
  },
  {
   "cell_type": "markdown",
   "metadata": {
    "id": "ilMntRv-Fk1m"
   },
   "source": [
    "# Load Metadata and Keywords\n",
    "⚠️ Please ensure [user-defined metadata has been processed](user_defined_metadata.ipynb) and [LLM-generated keywords have been generated](llm_generated_keywords.ipynb) before running this cell."
   ]
  },
  {
   "cell_type": "code",
   "execution_count": null,
   "metadata": {
    "colab": {
     "base_uri": "https://localhost:8080/"
    },
    "executionInfo": {
     "elapsed": 2354,
     "status": "ok",
     "timestamp": 1706730094751,
     "user": {
      "displayName": "Aoyu Gong",
      "userId": "08110456228788635196"
     },
     "user_tz": -60
    },
    "id": "mliehfVvqZJJ",
    "outputId": "062781d9-568f-4d67-bb71-27f00f9d5088"
   },
   "outputs": [],
   "source": [
    "from utils import load_pickle_file\n",
    "\n",
    "# Load pickle files\n",
    "metadata = load_pickle_file(os.path.join(trace_dir, \"metadata.pickle\"))\n",
    "keywords = load_pickle_file(os.path.join(trace_dir, \"keywords.pickle\"))"
   ]
  },
  {
   "cell_type": "markdown",
   "metadata": {},
   "source": [
    "# Build Multi-Feature Embedding Index"
   ]
  },
  {
   "cell_type": "code",
   "execution_count": null,
   "metadata": {
    "executionInfo": {
     "elapsed": 1671,
     "status": "ok",
     "timestamp": 1706730097078,
     "user": {
      "displayName": "Aoyu Gong",
      "userId": "08110456228788635196"
     },
     "user_tz": -60
    },
    "id": "fteL_6pbDTjq"
   },
   "outputs": [],
   "source": [
    "from utils import build_file_embeddings\n",
    "\n",
    "features_embedding_dirs = []\n",
    "\n",
    "for feature in config[\"best_combo\"][\"features\"]:\n",
    "    features_embedding_dirs.append(\n",
    "        (feature, os.path.join(\"features\", f\"{feature}_embedding\"))\n",
    "    )\n",
    "\n",
    "output_path = os.path.join(trace_dir, \"file_embeddings_best.pickle\")\n",
    "\n",
    "file_embeddings, shapes = build_file_embeddings(trace_dir, file_ids, features_embedding_dirs, output_path)"
   ]
  },
  {
   "cell_type": "markdown",
   "metadata": {},
   "source": [
    "# Compute Binary Similarity Matrix"
   ]
  },
  {
   "cell_type": "code",
   "execution_count": null,
   "metadata": {
    "colab": {
     "base_uri": "https://localhost:8080/"
    },
    "executionInfo": {
     "elapsed": 864,
     "status": "ok",
     "timestamp": 1706730098782,
     "user": {
      "displayName": "Aoyu Gong",
      "userId": "08110456228788635196"
     },
     "user_tz": -60
    },
    "id": "jFdfn74UfpNC",
    "outputId": "434ed5b9-a8a6-4800-b3ee-fe6a03fe3ab4"
   },
   "outputs": [],
   "source": [
    "import numpy as np\n",
    "from sklearn.metrics.pairwise import cosine_similarity\n",
    "from utils import build_ordered_embedding_matrix\n",
    "\n",
    "# Build a concatenated embedding matrix\n",
    "concat_embedding_matrix, ordered_ids = build_ordered_embedding_matrix(\n",
    "    trace_dir, file_ids, file_embeddings, shapes\n",
    ")\n",
    "\n",
    "# Compute cosine similarity matrix and apply threshold\n",
    "similarity_matrix = np.triu(cosine_similarity(concat_embedding_matrix), k=1)\n",
    "threshold = config[\"best_combo\"][\"threshold\"]\n",
    "binary_similarity = similarity_matrix > threshold\n",
    "\n",
    "print(f\"✅ Computed binary similarity matrix with shape: {similarity_matrix.shape}\")"
   ]
  },
  {
   "cell_type": "markdown",
   "metadata": {
    "id": "-8OM4jN9gGj2"
   },
   "source": [
    "# Perform Video Sequence Analysis\n",
    "\n",
    "## Task 1: Values of $|\\mathcal{V}|_{\\max} / L$ for Each Window"
   ]
  },
  {
   "cell_type": "code",
   "execution_count": null,
   "metadata": {
    "colab": {
     "base_uri": "https://localhost:8080/",
     "height": 487
    },
    "executionInfo": {
     "elapsed": 1398,
     "status": "ok",
     "timestamp": 1706703815940,
     "user": {
      "displayName": "Aoyu Gong",
      "userId": "08110456228788635196"
     },
     "user_tz": -60
    },
    "id": "EsHY3UK8WVef",
    "outputId": "89f4d366-8ab3-4911-ede2-af1f72b12b2c"
   },
   "outputs": [],
   "source": [
    "import matplotlib.pyplot as plt\n",
    "from utils import analyze_temporal_windows\n",
    "\n",
    "# Set parameters for analysis\n",
    "window_lengths = [5, 10]\n",
    "\n",
    "# Analyze video sequence\n",
    "start_normalized_orders, _ = analyze_temporal_windows(\n",
    "    ordered_ids, keywords, binary_similarity, window_lengths=window_lengths, step=1\n",
    ")\n",
    "\n",
    "# Visualization settings\n",
    "colors = [\"#F25022\", \"#00A4EF\", \"#7FBA00\", \"#FFB900\"]\n",
    "linestyles = [\"-\", \"--\", \"-.\", \":\"]\n",
    "\n",
    "fig, ax = plt.subplots(figsize=(6.4, 4.8))\n",
    "\n",
    "for idx, length in enumerate(window_lengths):\n",
    "    x = np.arange(1, len(start_normalized_orders[length]) + 1)\n",
    "    y = start_normalized_orders[length][:len(x)]\n",
    "    \n",
    "    line, = ax.plot(\n",
    "        x, y, color=colors[idx % len(colors)], linestyle=linestyles[idx % len(linestyles)], linewidth=1.5, label=fr\"$L$ = {length}\"\n",
    "    )\n",
    "\n",
    "ax.tick_params(axis='x', labelsize=14)\n",
    "ax.set_xlabel(r\"Window index $m$\", fontsize=24)\n",
    "\n",
    "ax.set_ylim(-0.05, 1.05)\n",
    "ax.set_yticks(np.arange(0, 1.2, 0.2))\n",
    "ax.tick_params(axis='y', labelsize=14)\n",
    "ax.set_ylabel(r\"Values of $|\\mathcal{V}|_{\\max} / L$\", fontsize=24)\n",
    "\n",
    "ax.legend(fontsize=16, loc='upper right')\n",
    "\n",
    "ax.grid(ls='--')\n",
    "\n",
    "output_dir = os.path.join(trace_dir, \"figures\")\n",
    "os.makedirs(output_dir, exist_ok=True)\n",
    "fig.savefig(os.path.join(output_dir, f\"normalized_orders.pdf\"), bbox_inches=\"tight\")\n",
    "\n",
    "plt.show()"
   ]
  },
  {
   "cell_type": "markdown",
   "metadata": {
    "id": "xlvtYT1vQX6l"
   },
   "source": [
    "## Task 2: Keyword Occurrences in Each Window"
   ]
  },
  {
   "cell_type": "code",
   "execution_count": null,
   "metadata": {
    "colab": {
     "base_uri": "https://localhost:8080/",
     "height": 504
    },
    "executionInfo": {
     "elapsed": 738,
     "status": "ok",
     "timestamp": 1706649112284,
     "user": {
      "displayName": "Aoyu Gong",
      "userId": "08110456228788635196"
     },
     "user_tz": -60
    },
    "id": "UcF9ad7XabQD",
    "outputId": "3007a123-ab41-474e-e53a-f2335da196c0"
   },
   "outputs": [],
   "source": [
    "import matplotlib.pyplot as plt\n",
    "from utils import analyze_temporal_windows\n",
    "\n",
    "# Set parameters for analysis\n",
    "length = 5\n",
    "top_k = 6\n",
    "\n",
    "# Analyze video sequence\n",
    "start_normalized_orders, start_components_keywords = analyze_temporal_windows(\n",
    "    ordered_ids, keywords, binary_similarity, window_lengths=[length], step=1\n",
    ")\n",
    "\n",
    "# Track keyword occurrences across windows\n",
    "occurrence_map = {}\n",
    "occurrence_counts = {}\n",
    "nof_windows = len(start_normalized_orders[length])\n",
    "\n",
    "for i, (start, components_keywords) in enumerate(start_components_keywords[length]):\n",
    "    for _, keywords_in_component in components_keywords:\n",
    "        for kw in keywords_in_component:\n",
    "            if kw not in occurrence_map:\n",
    "                occurrence_map[kw] = np.full(nof_windows, -100.0)\n",
    "                occurrence_counts[kw] = 1\n",
    "            occurrence_map[kw][start] = 1.0\n",
    "            occurrence_counts[kw] += 1\n",
    "\n",
    "# Rank keywords by total occurrences\n",
    "top_k = min(top_k, len(occurrence_map))\n",
    "ranked_keywords = sorted(\n",
    "    [(kw, np.sum(occurrence_map[kw])) for kw in occurrence_map], key=lambda x: -x[1]\n",
    ")[:top_k]\n",
    "\n",
    "# Visualization settings\n",
    "colors = [\"#F25022\", \"#00A4EF\", \"#7FBA00\", \"#FFB900\"]\n",
    "\n",
    "fig, ax = plt.subplots(figsize=(6.4, 4.8))\n",
    "\n",
    "x = np.arange(1, nof_windows + 1)\n",
    "y_offset = np.arange(1, top_k + 1)\n",
    "\n",
    "for idx, (kw, _) in enumerate(ranked_keywords):\n",
    "    y = occurrence_map[kw][:len(x)] * y_offset[idx]\n",
    "    ax.scatter(x, y, color=colors[idx % len(colors)], label=kw)\n",
    "\n",
    "ax.tick_params(axis='x', labelsize=24)\n",
    "ax.set_xlabel(r\"Window index $m$\", fontsize=24)\n",
    "\n",
    "margin = (top_k + 2.5) / 20\n",
    "ax.set_ylim(1 - margin, top_k + 2.5 + margin)\n",
    "ax.set_yticks(y_offset, labels=[\"\"] * top_k)\n",
    "ax.tick_params(axis='y', labelsize=24)\n",
    "ax.set_ylabel(\"Keyword occurrences\", fontsize=24)\n",
    "\n",
    "ax.legend(ncol=2, loc='upper center', fontsize=16)\n",
    "ax.grid(ls='--')\n",
    "\n",
    "output_dir = os.path.join(trace_dir, \"figures\")\n",
    "os.makedirs(output_dir, exist_ok=True)\n",
    "fig.savefig(os.path.join(output_dir, f\"keyword_occurrences.pdf\"), bbox_inches=\"tight\")\n",
    "\n",
    "plt.show()"
   ]
  },
  {
   "cell_type": "markdown",
   "metadata": {
    "id": "75kWojgPQdE2"
   },
   "source": [
    "## Task 3: Visualize Windows and Key Frames"
   ]
  },
  {
   "cell_type": "code",
   "execution_count": null,
   "metadata": {
    "executionInfo": {
     "elapsed": 1,
     "status": "ok",
     "timestamp": 1706730110519,
     "user": {
      "displayName": "Aoyu Gong",
      "userId": "08110456228788635196"
     },
     "user_tz": -60
    },
    "id": "9j2uXGIK6ozn"
   },
   "outputs": [],
   "source": [
    "import itertools\n",
    "from utils import analyze_temporal_windows\n",
    "\n",
    "# Set parameters for analysis\n",
    "length = 10\n",
    "visualization_mode = \"start\"  # Options: \"start\" and \"sequential\"\n",
    "\n",
    "# Analyze video sequence\n",
    "start_normalized_orders, start_components_keywords = analyze_temporal_windows(\n",
    "    ordered_ids, keywords, binary_similarity, window_lengths=[length], step=1\n",
    ")\n",
    "\n",
    "# Determine start index based on visualization mode\n",
    "if visualization_mode == \"sequential\":\n",
    "    target_order = 5  # <== Changing this! It sets the target component order\n",
    "    matches = np.where(np.array(start_normalized_orders[length]) * length == target_order)[0]\n",
    "    if len(matches) < 1:\n",
    "        raise ValueError(f\"No window found with normalized order {target_order / length:.2f}.\")\n",
    "    index_cycle = itertools.cycle(matches)\n",
    "    start = next(index_cycle)\n",
    "\n",
    "elif visualization_mode == \"start\":\n",
    "    start = 0  # <== Changing this! It sets the window start index\n",
    "    if not (0 <= start < len(start_normalized_orders[length])):\n",
    "        raise IndexError(\"Start index out of range.\")\n",
    "\n",
    "else:\n",
    "    raise ValueError(f\"Unsupported inspection mode: {visualization_mode}\")\n",
    "\n",
    "# Display summary info\n",
    "order_info = int(start_normalized_orders[length][start] * length)\n",
    "keyword_info = start_components_keywords[length][start]\n",
    "print(f\"ℹ️ Window start index: {start}\")\n",
    "print(f\"Largest connected component order: {order_info}\")\n",
    "print(f\"Associated keywords: {keyword_info[1][0][1] if keyword_info[1] else []}\")\n",
    "\n",
    "if visualization_mode == \"sequential\":\n",
    "    print(\"\\n⚠️ Manually loop through the cell below to visualize each window!\")"
   ]
  },
  {
   "cell_type": "markdown",
   "metadata": {},
   "source": [
    "> Manually loop through the cell below if you selected `sequential` mode 🔽"
   ]
  },
  {
   "cell_type": "code",
   "execution_count": null,
   "metadata": {},
   "outputs": [],
   "source": [
    "from matplotlib.patches import FancyArrowPatch\n",
    "import random\n",
    "from utils import display_metadata_and_videos\n",
    "\n",
    "if visualization_mode == \"sequential\":\n",
    "    # If sequential mode, set the next window start index\n",
    "    start = next(index_cycle)\n",
    "nodes = range(start, start + length)\n",
    "\n",
    "# Visualize connected components\n",
    "fig, ax = plt.subplots(figsize=(15, 4))\n",
    "\n",
    "for i in nodes:\n",
    "    for j in range(i + 1, start + length):\n",
    "        if binary_similarity[i, j]:\n",
    "            arrow = FancyArrowPatch(\n",
    "                [i, 0], [j, 0],\n",
    "                connectionstyle=f\"arc3,rad={random.choice([-1, 1]) * 0.25}\",\n",
    "                arrowstyle=\"-|>\", color=\"gray\"\n",
    "            )\n",
    "            ax.add_patch(arrow)\n",
    "\n",
    "ax.scatter(nodes, np.zeros(len(nodes)), s=1250, color=\"#007ACC\", zorder=3)\n",
    "\n",
    "for node in nodes:\n",
    "    ax.text(node, 0, str(node), color=\"white\", fontsize=12, fontweight=\"bold\",\n",
    "            ha='center', va='center')\n",
    "\n",
    "ax.set_xlim([min(nodes) - 1, max(nodes) + 1])\n",
    "ax.set_ylim([-3, 3])\n",
    "\n",
    "ax.axis('off')\n",
    "\n",
    "output_dir = os.path.join(trace_dir, \"figures\")\n",
    "os.makedirs(output_dir, exist_ok=True)\n",
    "fig.savefig(os.path.join(output_dir, \"window_connected_components.pdf\"), bbox_inches=\"tight\")\n",
    "\n",
    "plt.show()\n",
    "\n",
    "# Visualize metadata and videos\n",
    "video_ids = [ordered_ids[idx] for idx in nodes]\n",
    "display_metadata_and_videos(video_ids, metadata, trace_dir)"
   ]
  },
  {
   "cell_type": "code",
   "execution_count": null,
   "metadata": {},
   "outputs": [],
   "source": [
    "import cv2\n",
    "from tqdm.notebook import tqdm\n",
    "\n",
    "# Sample video frames\n",
    "frames = {}\n",
    "sample_every_n_frames = 30\n",
    "\n",
    "for file_id in tqdm(video_ids, desc=\"Sampling video frames\"):\n",
    "    video_path = os.path.join(trace_dir, \"videos\", f\"{file_id}.mp4\")\n",
    "    cap = cv2.VideoCapture(video_path)\n",
    "\n",
    "    if not cap.isOpened():\n",
    "        print(f\"❌ Error opening video: {file_id}\")\n",
    "        continue\n",
    "\n",
    "    frames[file_id] = []\n",
    "    frame_count = 0\n",
    "\n",
    "    while cap.isOpened():\n",
    "        ret, frame = cap.read()\n",
    "        if not ret:\n",
    "            break\n",
    "\n",
    "        frame_count += 1\n",
    "        if frame_count % sample_every_n_frames == 0:\n",
    "            frames[file_id].append(frame)\n",
    "\n",
    "    cap.release()\n",
    "\n",
    "print(\"✅ Completed frame sampling.\")\n",
    "print(\"Sampled frame counts:\", [len(frames[fid]) for fid in frames])\n",
    "\n",
    "# Visualize first frame from each video\n",
    "fig, axes = plt.subplots(nrows=1, ncols=len(video_ids), figsize=(20, 40))\n",
    "\n",
    "for idx, file_id in enumerate(video_ids):\n",
    "    plt.subplot(1, len(video_ids), idx + 1)\n",
    "    plt.imshow(cv2.cvtColor(frames[file_id][0], cv2.COLOR_BGR2RGB))\n",
    "    plt.xticks([])\n",
    "    plt.yticks([])\n",
    "\n",
    "output_dir = os.path.join(trace_dir, \"figures\")\n",
    "os.makedirs(output_dir, exist_ok=True)\n",
    "fig.savefig(os.path.join(output_dir, \"window_key_frames.pdf\"), bbox_inches=\"tight\")\n",
    "\n",
    "plt.show()"
   ]
  }
 ],
 "metadata": {
  "colab": {
   "authorship_tag": "ABX9TyPCsdrQlSkwye8CAdWWyXTh",
   "provenance": []
  },
  "kernelspec": {
   "display_name": "clipmind",
   "language": "python",
   "name": "python3"
  },
  "language_info": {
   "codemirror_mode": {
    "name": "ipython",
    "version": 3
   },
   "file_extension": ".py",
   "mimetype": "text/x-python",
   "name": "python",
   "nbconvert_exporter": "python",
   "pygments_lexer": "ipython3",
   "version": "3.9.19"
  },
  "widgets": {
   "application/vnd.jupyter.widget-state+json": {
    "13aff18aabd748cda917d3e5dc0ebbc3": {
     "model_module": "@jupyter-widgets/base",
     "model_module_version": "1.2.0",
     "model_name": "LayoutModel",
     "state": {
      "_model_module": "@jupyter-widgets/base",
      "_model_module_version": "1.2.0",
      "_model_name": "LayoutModel",
      "_view_count": null,
      "_view_module": "@jupyter-widgets/base",
      "_view_module_version": "1.2.0",
      "_view_name": "LayoutView",
      "align_content": null,
      "align_items": null,
      "align_self": null,
      "border": null,
      "bottom": null,
      "display": null,
      "flex": null,
      "flex_flow": null,
      "grid_area": null,
      "grid_auto_columns": null,
      "grid_auto_flow": null,
      "grid_auto_rows": null,
      "grid_column": null,
      "grid_gap": null,
      "grid_row": null,
      "grid_template_areas": null,
      "grid_template_columns": null,
      "grid_template_rows": null,
      "height": null,
      "justify_content": null,
      "justify_items": null,
      "left": null,
      "margin": null,
      "max_height": null,
      "max_width": null,
      "min_height": null,
      "min_width": null,
      "object_fit": null,
      "object_position": null,
      "order": null,
      "overflow": null,
      "overflow_x": null,
      "overflow_y": null,
      "padding": null,
      "right": null,
      "top": null,
      "visibility": null,
      "width": null
     }
    },
    "27f52efd8feb439b85768a26e81bee11": {
     "model_module": "@jupyter-widgets/controls",
     "model_module_version": "1.5.0",
     "model_name": "HBoxModel",
     "state": {
      "_dom_classes": [],
      "_model_module": "@jupyter-widgets/controls",
      "_model_module_version": "1.5.0",
      "_model_name": "HBoxModel",
      "_view_count": null,
      "_view_module": "@jupyter-widgets/controls",
      "_view_module_version": "1.5.0",
      "_view_name": "HBoxView",
      "box_style": "",
      "children": [
       "IPY_MODEL_35d8ed22fc6844409a2b7a9a9a9d2d93",
       "IPY_MODEL_821a775b96a54c7c9d8a2698bec32c52",
       "IPY_MODEL_7f3c64e6e636430e8ddda196b12f35f7"
      ],
      "layout": "IPY_MODEL_6ce693340dba452380d76a8f154ab68d"
     }
    },
    "35d8ed22fc6844409a2b7a9a9a9d2d93": {
     "model_module": "@jupyter-widgets/controls",
     "model_module_version": "1.5.0",
     "model_name": "HTMLModel",
     "state": {
      "_dom_classes": [],
      "_model_module": "@jupyter-widgets/controls",
      "_model_module_version": "1.5.0",
      "_model_name": "HTMLModel",
      "_view_count": null,
      "_view_module": "@jupyter-widgets/controls",
      "_view_module_version": "1.5.0",
      "_view_name": "HTMLView",
      "description": "",
      "description_tooltip": null,
      "layout": "IPY_MODEL_13aff18aabd748cda917d3e5dc0ebbc3",
      "placeholder": "​",
      "style": "IPY_MODEL_fd526969c0944cb6894ed2f7edee7b50",
      "value": "100%"
     }
    },
    "40ff9f1c6a0c4b25a15591e38ba145e0": {
     "model_module": "@jupyter-widgets/base",
     "model_module_version": "1.2.0",
     "model_name": "LayoutModel",
     "state": {
      "_model_module": "@jupyter-widgets/base",
      "_model_module_version": "1.2.0",
      "_model_name": "LayoutModel",
      "_view_count": null,
      "_view_module": "@jupyter-widgets/base",
      "_view_module_version": "1.2.0",
      "_view_name": "LayoutView",
      "align_content": null,
      "align_items": null,
      "align_self": null,
      "border": null,
      "bottom": null,
      "display": null,
      "flex": null,
      "flex_flow": null,
      "grid_area": null,
      "grid_auto_columns": null,
      "grid_auto_flow": null,
      "grid_auto_rows": null,
      "grid_column": null,
      "grid_gap": null,
      "grid_row": null,
      "grid_template_areas": null,
      "grid_template_columns": null,
      "grid_template_rows": null,
      "height": null,
      "justify_content": null,
      "justify_items": null,
      "left": null,
      "margin": null,
      "max_height": null,
      "max_width": null,
      "min_height": null,
      "min_width": null,
      "object_fit": null,
      "object_position": null,
      "order": null,
      "overflow": null,
      "overflow_x": null,
      "overflow_y": null,
      "padding": null,
      "right": null,
      "top": null,
      "visibility": null,
      "width": null
     }
    },
    "42af1bb7aa7440c18f0b367dee61e00a": {
     "model_module": "@jupyter-widgets/controls",
     "model_module_version": "1.5.0",
     "model_name": "ProgressStyleModel",
     "state": {
      "_model_module": "@jupyter-widgets/controls",
      "_model_module_version": "1.5.0",
      "_model_name": "ProgressStyleModel",
      "_view_count": null,
      "_view_module": "@jupyter-widgets/base",
      "_view_module_version": "1.2.0",
      "_view_name": "StyleView",
      "bar_color": null,
      "description_width": ""
     }
    },
    "6ce693340dba452380d76a8f154ab68d": {
     "model_module": "@jupyter-widgets/base",
     "model_module_version": "1.2.0",
     "model_name": "LayoutModel",
     "state": {
      "_model_module": "@jupyter-widgets/base",
      "_model_module_version": "1.2.0",
      "_model_name": "LayoutModel",
      "_view_count": null,
      "_view_module": "@jupyter-widgets/base",
      "_view_module_version": "1.2.0",
      "_view_name": "LayoutView",
      "align_content": null,
      "align_items": null,
      "align_self": null,
      "border": null,
      "bottom": null,
      "display": null,
      "flex": null,
      "flex_flow": null,
      "grid_area": null,
      "grid_auto_columns": null,
      "grid_auto_flow": null,
      "grid_auto_rows": null,
      "grid_column": null,
      "grid_gap": null,
      "grid_row": null,
      "grid_template_areas": null,
      "grid_template_columns": null,
      "grid_template_rows": null,
      "height": null,
      "justify_content": null,
      "justify_items": null,
      "left": null,
      "margin": null,
      "max_height": null,
      "max_width": null,
      "min_height": null,
      "min_width": null,
      "object_fit": null,
      "object_position": null,
      "order": null,
      "overflow": null,
      "overflow_x": null,
      "overflow_y": null,
      "padding": null,
      "right": null,
      "top": null,
      "visibility": null,
      "width": null
     }
    },
    "7f3c64e6e636430e8ddda196b12f35f7": {
     "model_module": "@jupyter-widgets/controls",
     "model_module_version": "1.5.0",
     "model_name": "HTMLModel",
     "state": {
      "_dom_classes": [],
      "_model_module": "@jupyter-widgets/controls",
      "_model_module_version": "1.5.0",
      "_model_name": "HTMLModel",
      "_view_count": null,
      "_view_module": "@jupyter-widgets/controls",
      "_view_module_version": "1.5.0",
      "_view_name": "HTMLView",
      "description": "",
      "description_tooltip": null,
      "layout": "IPY_MODEL_40ff9f1c6a0c4b25a15591e38ba145e0",
      "placeholder": "​",
      "style": "IPY_MODEL_e96dce4383054bfcb9b1cf602df372bb",
      "value": " 519/519 [00:00&lt;00:00, 566.39it/s]"
     }
    },
    "821a775b96a54c7c9d8a2698bec32c52": {
     "model_module": "@jupyter-widgets/controls",
     "model_module_version": "1.5.0",
     "model_name": "FloatProgressModel",
     "state": {
      "_dom_classes": [],
      "_model_module": "@jupyter-widgets/controls",
      "_model_module_version": "1.5.0",
      "_model_name": "FloatProgressModel",
      "_view_count": null,
      "_view_module": "@jupyter-widgets/controls",
      "_view_module_version": "1.5.0",
      "_view_name": "ProgressView",
      "bar_style": "success",
      "description": "",
      "description_tooltip": null,
      "layout": "IPY_MODEL_c9d0a287af8443b3b3e58933f02c5e62",
      "max": 519,
      "min": 0,
      "orientation": "horizontal",
      "style": "IPY_MODEL_42af1bb7aa7440c18f0b367dee61e00a",
      "value": 519
     }
    },
    "c9d0a287af8443b3b3e58933f02c5e62": {
     "model_module": "@jupyter-widgets/base",
     "model_module_version": "1.2.0",
     "model_name": "LayoutModel",
     "state": {
      "_model_module": "@jupyter-widgets/base",
      "_model_module_version": "1.2.0",
      "_model_name": "LayoutModel",
      "_view_count": null,
      "_view_module": "@jupyter-widgets/base",
      "_view_module_version": "1.2.0",
      "_view_name": "LayoutView",
      "align_content": null,
      "align_items": null,
      "align_self": null,
      "border": null,
      "bottom": null,
      "display": null,
      "flex": null,
      "flex_flow": null,
      "grid_area": null,
      "grid_auto_columns": null,
      "grid_auto_flow": null,
      "grid_auto_rows": null,
      "grid_column": null,
      "grid_gap": null,
      "grid_row": null,
      "grid_template_areas": null,
      "grid_template_columns": null,
      "grid_template_rows": null,
      "height": null,
      "justify_content": null,
      "justify_items": null,
      "left": null,
      "margin": null,
      "max_height": null,
      "max_width": null,
      "min_height": null,
      "min_width": null,
      "object_fit": null,
      "object_position": null,
      "order": null,
      "overflow": null,
      "overflow_x": null,
      "overflow_y": null,
      "padding": null,
      "right": null,
      "top": null,
      "visibility": null,
      "width": null
     }
    },
    "e96dce4383054bfcb9b1cf602df372bb": {
     "model_module": "@jupyter-widgets/controls",
     "model_module_version": "1.5.0",
     "model_name": "DescriptionStyleModel",
     "state": {
      "_model_module": "@jupyter-widgets/controls",
      "_model_module_version": "1.5.0",
      "_model_name": "DescriptionStyleModel",
      "_view_count": null,
      "_view_module": "@jupyter-widgets/base",
      "_view_module_version": "1.2.0",
      "_view_name": "StyleView",
      "description_width": ""
     }
    },
    "fd526969c0944cb6894ed2f7edee7b50": {
     "model_module": "@jupyter-widgets/controls",
     "model_module_version": "1.5.0",
     "model_name": "DescriptionStyleModel",
     "state": {
      "_model_module": "@jupyter-widgets/controls",
      "_model_module_version": "1.5.0",
      "_model_name": "DescriptionStyleModel",
      "_view_count": null,
      "_view_module": "@jupyter-widgets/base",
      "_view_module_version": "1.2.0",
      "_view_name": "StyleView",
      "description_width": ""
     }
    }
   }
  }
 },
 "nbformat": 4,
 "nbformat_minor": 0
}
