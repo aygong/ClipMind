{
 "cells": [
  {
   "cell_type": "markdown",
   "metadata": {},
   "source": [
    "# Set the Working Directory"
   ]
  },
  {
   "cell_type": "code",
   "execution_count": null,
   "metadata": {},
   "outputs": [],
   "source": [
    "import os\n",
    "\n",
    "working_dir = os.getcwd()\n",
    "\n",
    "if os.path.isdir(working_dir):\n",
    "    print(\"Working directory is ready!\")\n",
    "else:\n",
    "    raise ValueError(\"Working directory does not exist\")"
   ]
  },
  {
   "cell_type": "markdown",
   "metadata": {},
   "source": [
    "# Set the Trace Directory"
   ]
  },
  {
   "cell_type": "code",
   "execution_count": null,
   "metadata": {},
   "outputs": [],
   "source": [
    "import yaml\n",
    "\n",
    "# Load configuration file\n",
    "config_path = os.path.join(working_dir, \"configuration.yaml\")\n",
    "with open(config_path, \"r\") as f:\n",
    "    config = yaml.safe_load(f)\n",
    "\n",
    "# Resolve trace directory\n",
    "trace_dir = os.path.join(working_dir, \"data\", config[\"working_trace\"])\n",
    "\n",
    "if os.path.isdir(trace_dir):\n",
    "    print(f\"✅ Trace directory ready: {trace_dir}\")\n",
    "else:\n",
    "    raise FileNotFoundError(f\"❌ Trace directory not found: {trace_dir}\\n\")"
   ]
  },
  {
   "cell_type": "code",
   "execution_count": null,
   "metadata": {},
   "outputs": [],
   "source": [
    "from utils import read_file_ids\n",
    "\n",
    "# Read file IDs from the trace directory\n",
    "file_ids = read_file_ids(trace_dir=trace_dir, overwrite=False)\n",
    "\n",
    "print(f\"📁 Total video files found: {len(file_ids)}\")"
   ]
  },
  {
   "cell_type": "markdown",
   "metadata": {
    "id": "sxVo3gLgFcG0"
   },
   "source": [
    "# Build Multi-Feature Embedding Index"
   ]
  },
  {
   "cell_type": "code",
   "execution_count": null,
   "metadata": {},
   "outputs": [],
   "source": [
    "from utils import build_file_embeddings\n",
    "\n",
    "features_embedding_dirs = [\n",
    "    (\"video_audio_content\", \"features/video_audio_embedding\"),\n",
    "    (\"video_visual_content\", \"features/video_visual_embedding\"),\n",
    "    (\"llm_generated_description\", \"features/llm_generated_description_embedding\"),\n",
    "    (\"user_defined_metadata\", \"features/user_defined_metadata_embedding\"),\n",
    "    (\"llm_generated_keywords\", \"features/llm_generated_keywords_embedding\"),\n",
    "]\n",
    "output_path = os.path.join(trace_dir, \"file_embeddings_full.pickle\")\n",
    "\n",
    "file_embeddings, shapes = build_file_embeddings(trace_dir, file_ids, features_embedding_dirs, output_path)"
   ]
  },
  {
   "cell_type": "markdown",
   "metadata": {
    "id": "SzF-iiU_Fhmf"
   },
   "source": [
    "# Load Final Annotation\n",
    "⚠️ Please ensure [the final annotation has been generated](annotation.ipynb) before running this cell."
   ]
  },
  {
   "cell_type": "code",
   "execution_count": null,
   "metadata": {},
   "outputs": [],
   "source": [
    "from utils import load_pickle_file\n",
    "\n",
    "# Load pickle files\n",
    "annotation = load_pickle_file(os.path.join(trace_dir, \"annotations/final_annotation.pickle\"))\n",
    "\n",
    "# Compute annotation statistics\n",
    "total_pairs = len(annotation)\n",
    "positive_pairs = sum(value is True for value in annotation.values())\n",
    "negative_pairs = total_pairs - positive_pairs\n",
    "\n",
    "print(f\"📊 Annotation statistics:\")\n",
    "print(f\"  Total video pairs: {total_pairs:,}\")\n",
    "print(f\"  Positive (similar) pairs: {positive_pairs:,}\")\n",
    "print(f\"  Negative (not similar) pairs: {negative_pairs:,}\")"
   ]
  },
  {
   "cell_type": "markdown",
   "metadata": {
    "id": "uTYyKRxNGy9t"
   },
   "source": [
    "# Identify the Best Feature Combination and Similarity Threshold"
   ]
  },
  {
   "cell_type": "code",
   "execution_count": null,
   "metadata": {
    "colab": {
     "base_uri": "https://localhost:8080/"
    },
    "executionInfo": {
     "elapsed": 655,
     "status": "ok",
     "timestamp": 1706781168069,
     "user": {
      "displayName": "Aoyu Gong",
      "userId": "08110456228788635196"
     },
     "user_tz": -60
    },
    "id": "U1dEeUH5FPo9",
    "outputId": "6ce0dd5f-597e-4a2a-b473-9d6acd9a949b"
   },
   "outputs": [],
   "source": [
    "from itertools import combinations\n",
    "import numpy as np\n",
    "import pickle\n",
    "from tqdm.notebook import tqdm\n",
    "from utils import compute_cosine_similarity, compute_metrics_across_thresholds\n",
    "\n",
    "output_path = os.path.join(trace_dir, \"feature_combo_metrics.pickle\")\n",
    "\n",
    "if os.path.isfile(output_path):\n",
    "    # Load existing feature combination metrics\n",
    "    with open(output_path, \"rb\") as f:\n",
    "        feature_combo_metrics = pickle.load(f)\n",
    "    print(f\"✅ Loaded cached feature combination metrics from `{output_path}`\")\n",
    "else:\n",
    "    features = [\n",
    "        'video_audio_content',\n",
    "        'video_visual_content',\n",
    "        'llm_generated_description',\n",
    "        'user_defined_metadata',\n",
    "        'llm_generated_keywords',\n",
    "    ]\n",
    "    thresholds = np.arange(0, 1, 0.001)\n",
    "    feature_combo_metrics = []\n",
    "    \n",
    "    for r in range(1, len(features) + 1):\n",
    "        for combo in tqdm(list(combinations(features, r)), desc=f\"Evaluating {r}-feature combinations\"):\n",
    "            similarity, ground_truth = compute_cosine_similarity(annotation, combo, file_embeddings)\n",
    "            accuracy, precision, recall, f1 = compute_metrics_across_thresholds(similarity, ground_truth, thresholds)\n",
    "            best_idx = np.argmax(f1)\n",
    "            feature_combo_metrics.append([\n",
    "                combo,\n",
    "                accuracy[best_idx],\n",
    "                precision[best_idx],\n",
    "                recall[best_idx],\n",
    "                f1[best_idx],\n",
    "                thresholds[best_idx]\n",
    "            ])\n",
    "    \n",
    "    feature_combo_metrics = sorted(feature_combo_metrics, key=lambda x: -x[4])  # sort by F1-score\n",
    "    \n",
    "    # Save feature combination metrics to pickle\n",
    "    with open(output_path, \"wb\") as f:\n",
    "        pickle.dump(feature_combo_metrics, f)\n",
    "    print(f\"✅ Saved feature combination metrics to `{output_path}`\")\n",
    "\n",
    "# Display top-100 results\n",
    "print(\"\\n🏆 Top 100 Feature Combinations:\")\n",
    "for rank, (features, acc, prec, rec, f1, threshold) in enumerate(feature_combo_metrics[:100]):\n",
    "    print(f\"{rank:>2}. {features}\")\n",
    "    print(f\"  Accuracy: {acc:.4f}, Precision: {prec:.4f}, Recall: {rec:.4f}, F1-score: {f1:.4f}, Threshold: {threshold:.3f}\")"
   ]
  },
  {
   "cell_type": "code",
   "execution_count": null,
   "metadata": {
    "id": "7ixhqFApIZUj"
   },
   "outputs": [],
   "source": [
    "best_combo = feature_combo_metrics[0]\n",
    "\n",
    "print(\"\\n🏅 Best Feature Combination:\")\n",
    "print(f\"  Features: {best_combo[0]}, Threshold: {best_combo[5]:.3f}\")\n",
    "\n",
    "# Update configuration with the best feature combination and similarity threshold\n",
    "config[\"best_combo\"] = {\n",
    "    \"from_trace\": config[\"working_trace\"],\n",
    "    \"features\": list(best_combo[0]),\n",
    "    \"threshold\": round(float(best_combo[5]), 4)\n",
    "}\n",
    "\n",
    "with open(config_path, \"w\") as f:\n",
    "    yaml.safe_dump(config, f, indent=4)\n",
    "\n",
    "print(f\"\\n✅ Saved the best feature combination and similarity threshold to: {config_path}\")"
   ]
  }
 ],
 "metadata": {
  "colab": {
   "authorship_tag": "ABX9TyOuPMdsnXozsrNYMxwwZNKo",
   "provenance": [],
   "toc_visible": true
  },
  "kernelspec": {
   "display_name": "clipmind",
   "language": "python",
   "name": "python3"
  },
  "language_info": {
   "codemirror_mode": {
    "name": "ipython",
    "version": 3
   },
   "file_extension": ".py",
   "mimetype": "text/x-python",
   "name": "python",
   "nbconvert_exporter": "python",
   "pygments_lexer": "ipython3",
   "version": "3.9.19"
  }
 },
 "nbformat": 4,
 "nbformat_minor": 0
}
