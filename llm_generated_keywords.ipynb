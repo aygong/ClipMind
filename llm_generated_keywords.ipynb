{
 "cells": [
  {
   "cell_type": "markdown",
   "metadata": {},
   "source": [
    "# Set the Working Directory"
   ]
  },
  {
   "cell_type": "code",
   "execution_count": null,
   "metadata": {},
   "outputs": [],
   "source": [
    "import os\n",
    "\n",
    "working_dir = os.getcwd()\n",
    "\n",
    "if os.path.isdir(working_dir):\n",
    "    print(\"Working directory is ready!\")\n",
    "else:\n",
    "    raise ValueError(\"Working directory does not exist\")"
   ]
  },
  {
   "cell_type": "markdown",
   "metadata": {},
   "source": [
    "# Set the Trace Directory"
   ]
  },
  {
   "cell_type": "code",
   "execution_count": null,
   "metadata": {},
   "outputs": [],
   "source": [
    "import yaml\n",
    "\n",
    "# Load configuration file\n",
    "config_path = os.path.join(working_dir, \"configuration.yaml\")\n",
    "with open(config_path, \"r\") as f:\n",
    "    config = yaml.safe_load(f)\n",
    "\n",
    "# Resolve trace directory\n",
    "trace_dir = os.path.join(working_dir, \"data\", config[\"working_trace\"])\n",
    "\n",
    "if os.path.isdir(trace_dir):\n",
    "    print(f\"✅ Trace directory ready: {trace_dir}\")\n",
    "else:\n",
    "    raise FileNotFoundError(f\"❌ Trace directory not found: {trace_dir}\\n\")"
   ]
  },
  {
   "cell_type": "markdown",
   "metadata": {
    "id": "lGYaqiZLdX_J"
   },
   "source": [
    "# Load Descriptions and Metadata\n",
    "⚠️ Please ensure [LLM-generated descriptions have been generated](llm_generated_description.ipynb) and [user-defined metadata has been processed](user_defined_metadata.ipynb) before running this cell."
   ]
  },
  {
   "cell_type": "code",
   "execution_count": null,
   "metadata": {
    "colab": {
     "base_uri": "https://localhost:8080/"
    },
    "executionInfo": {
     "elapsed": 2764,
     "status": "ok",
     "timestamp": 1735037185836,
     "user": {
      "displayName": "Aoyu Gong",
      "userId": "08110456228788635196"
     },
     "user_tz": -60
    },
    "id": "M6ggXc4pdAIm",
    "outputId": "0bd8cc00-d5c5-4587-f2eb-8bd5d8274e04"
   },
   "outputs": [],
   "source": [
    "from utils import load_pickle_file\n",
    "\n",
    "# Load pickle files\n",
    "metadata = load_pickle_file(os.path.join(trace_dir, \"metadata.pickle\"))\n",
    "descriptions = load_pickle_file(os.path.join(trace_dir, \"descriptions.pickle\"))"
   ]
  },
  {
   "cell_type": "markdown",
   "metadata": {
    "id": "gYvt2itqeG0g"
   },
   "source": [
    "# Generate LLM-Generated Keywords"
   ]
  },
  {
   "cell_type": "code",
   "execution_count": null,
   "metadata": {
    "colab": {
     "base_uri": "https://localhost:8080/"
    },
    "executionInfo": {
     "elapsed": 429763,
     "status": "ok",
     "timestamp": 1706262799406,
     "user": {
      "displayName": "Aoyu Gong",
      "userId": "08110456228788635196"
     },
     "user_tz": -60
    },
    "id": "Iyg84fugeIwf",
    "outputId": "71d95edb-31ab-4e36-830c-fcb981f19498"
   },
   "outputs": [],
   "source": [
    "from openai import OpenAI\n",
    "import yaml\n",
    "\n",
    "def gpt_wrapper(client, platform, keyword_pool, description, metadata, channeltags):\n",
    "    prompt = (\n",
    "        f\"I will give you the description, metadata, and auxiliaries of a {platform} video. \"\n",
    "        f\"I will give you a pool of keywords: {keyword_pool}. \"\n",
    "        \"I want you to select keywords related to the video from this pool based on the description, metadata, and auxiliaries. \"\n",
    "        \"I want you to only reply with the keywords and nothing else. \"\n",
    "        \"Note that the metadata and auxiliaries may be empty or may provide no additional information.\\n\"\n",
    "        f\"The description is: \\\"{description}\\\"\\n\"\n",
    "        f\"The metadata is: \\\"{metadata}\\\"\\n\"\n",
    "        f\"The auxiliaries are: \\\"{channeltags}\\\"\\n\\n\"\n",
    "        \"Your answer is:\"\n",
    "    )\n",
    "\n",
    "    response = client.chat.completions.create(\n",
    "        model=\"gpt-4o\",\n",
    "        messages=[{\"role\": \"user\", \"content\": prompt}]\n",
    "    )\n",
    "\n",
    "    return response.choices[0].message.content\n",
    "\n",
    "# Initialize OpenAI client\n",
    "client = OpenAI(\n",
    "    api_key=config[\"openai\"][\"api_key\"],\n",
    ")\n",
    "\n",
    "output_dir = os.path.join(trace_dir, \"features\", \"llm_generated_keywords\")\n",
    "os.makedirs(output_dir, exist_ok=True)\n",
    "\n",
    "for idx, file_id in enumerate(metadata, start=1):\n",
    "    output_file = os.path.join(output_dir, f\"{file_id}.txt\")\n",
    "    \n",
    "    if os.path.exists(output_file):\n",
    "        print(f\"✅ Keywords already exist: {file_id}.txt\")\n",
    "        continue\n",
    "    \n",
    "    print(f\"🛠️ [{idx}/{len(metadata)}] Generating: {file_id}.txt\")\n",
    "\n",
    "    # Generate keywords based on LLM-generated descriptions and user-defined metadata\n",
    "    keywords = gpt_wrapper(\n",
    "        client=client,\n",
    "        platform=\"TikTok\",\n",
    "        keyword_pool=\", \".join(config[\"keyword_pool\"]),\n",
    "        description=descriptions[file_id],\n",
    "        metadata=metadata[file_id][\"desc\"],\n",
    "        channeltags=\", \".join(metadata[file_id][\"channelTags\"])\n",
    "    )\n",
    "\n",
    "    # Save keywords\n",
    "    with open(output_file, \"w\", encoding=\"utf-8\") as f:\n",
    "        f.write(keywords)\n",
    "\n",
    "    print(f\"📦 Saved keywords: {file_id}.txt\")\n",
    "    print(f\"📝 Keywords {idx}/{len(metadata)}: {keywords}\")"
   ]
  },
  {
   "cell_type": "code",
   "execution_count": null,
   "metadata": {
    "colab": {
     "base_uri": "https://localhost:8080/",
     "height": 49,
     "referenced_widgets": [
      "56e503dc2d5149fb8fbd587c79b05e23",
      "e89a2c0ebff94f49b8f0aa4d3f4830c2",
      "1789ccbd71dd4a64853b0b54ad4862a9",
      "f48cc0b152df451b9bebef8c5148f166",
      "a53c99e0c29146f38c2f9dba49ec3c6c",
      "c9971d0cd0e9423abbfa7853222caadb",
      "93388e56099744da9bf21e1822532ddc",
      "7f3418c25c6f4d60bfb07a99f6236601",
      "7ca36de256684ad6895953023d16513d",
      "221d38489a4a4fb7bc059ad5b683b409",
      "f2456253f4e14eacbe22edae19a881ff"
     ]
    },
    "executionInfo": {
     "elapsed": 2849,
     "status": "ok",
     "timestamp": 1706262802249,
     "user": {
      "displayName": "Aoyu Gong",
      "userId": "08110456228788635196"
     },
     "user_tz": -60
    },
    "id": "hLImFwuSruQg",
    "outputId": "878aecf6-695d-4f31-a3c9-2f54b0cec943"
   },
   "outputs": [],
   "source": [
    "import os\n",
    "import pickle\n",
    "from tqdm.notebook import tqdm\n",
    "\n",
    "keyword_dir = os.path.join(trace_dir, \"features\", \"llm_generated_keywords\")\n",
    "output_path = os.path.join(trace_dir, \"keywords.pickle\")\n",
    "\n",
    "keywords = {}\n",
    "\n",
    "for file_id in tqdm(metadata, desc=\"Loading keywords\"):\n",
    "    keyword_file = os.path.join(keyword_dir, f\"{file_id}.txt\")\n",
    "    \n",
    "    with open(keyword_file, \"r\", encoding='utf-8') as f:\n",
    "        text = f.read()\n",
    "        if not isinstance(text, str):\n",
    "            text = text.decode()\n",
    "\n",
    "    keywords[file_id] = text\n",
    "\n",
    "# Save keywords to pickle\n",
    "with open(output_path, \"wb\") as f:\n",
    "    pickle.dump(keywords, f)\n",
    "\n",
    "print(f\"✅ Saved {len(keywords)} keywords to {output_path}\")"
   ]
  }
 ],
 "metadata": {
  "colab": {
   "authorship_tag": "ABX9TyO2bqj9DzhuWUOrcWTIXxqn",
   "provenance": [],
   "toc_visible": true
  },
  "kernelspec": {
   "display_name": "clipmind",
   "language": "python",
   "name": "python3"
  },
  "language_info": {
   "codemirror_mode": {
    "name": "ipython",
    "version": 3
   },
   "file_extension": ".py",
   "mimetype": "text/x-python",
   "name": "python",
   "nbconvert_exporter": "python",
   "pygments_lexer": "ipython3",
   "version": "3.9.19"
  },
  "widgets": {
   "application/vnd.jupyter.widget-state+json": {
    "1789ccbd71dd4a64853b0b54ad4862a9": {
     "model_module": "@jupyter-widgets/controls",
     "model_module_version": "1.5.0",
     "model_name": "FloatProgressModel",
     "state": {
      "_dom_classes": [],
      "_model_module": "@jupyter-widgets/controls",
      "_model_module_version": "1.5.0",
      "_model_name": "FloatProgressModel",
      "_view_count": null,
      "_view_module": "@jupyter-widgets/controls",
      "_view_module_version": "1.5.0",
      "_view_name": "ProgressView",
      "bar_style": "success",
      "description": "",
      "description_tooltip": null,
      "layout": "IPY_MODEL_7f3418c25c6f4d60bfb07a99f6236601",
      "max": 523,
      "min": 0,
      "orientation": "horizontal",
      "style": "IPY_MODEL_7ca36de256684ad6895953023d16513d",
      "value": 523
     }
    },
    "221d38489a4a4fb7bc059ad5b683b409": {
     "model_module": "@jupyter-widgets/base",
     "model_module_version": "1.2.0",
     "model_name": "LayoutModel",
     "state": {
      "_model_module": "@jupyter-widgets/base",
      "_model_module_version": "1.2.0",
      "_model_name": "LayoutModel",
      "_view_count": null,
      "_view_module": "@jupyter-widgets/base",
      "_view_module_version": "1.2.0",
      "_view_name": "LayoutView",
      "align_content": null,
      "align_items": null,
      "align_self": null,
      "border": null,
      "bottom": null,
      "display": null,
      "flex": null,
      "flex_flow": null,
      "grid_area": null,
      "grid_auto_columns": null,
      "grid_auto_flow": null,
      "grid_auto_rows": null,
      "grid_column": null,
      "grid_gap": null,
      "grid_row": null,
      "grid_template_areas": null,
      "grid_template_columns": null,
      "grid_template_rows": null,
      "height": null,
      "justify_content": null,
      "justify_items": null,
      "left": null,
      "margin": null,
      "max_height": null,
      "max_width": null,
      "min_height": null,
      "min_width": null,
      "object_fit": null,
      "object_position": null,
      "order": null,
      "overflow": null,
      "overflow_x": null,
      "overflow_y": null,
      "padding": null,
      "right": null,
      "top": null,
      "visibility": null,
      "width": null
     }
    },
    "56e503dc2d5149fb8fbd587c79b05e23": {
     "model_module": "@jupyter-widgets/controls",
     "model_module_version": "1.5.0",
     "model_name": "HBoxModel",
     "state": {
      "_dom_classes": [],
      "_model_module": "@jupyter-widgets/controls",
      "_model_module_version": "1.5.0",
      "_model_name": "HBoxModel",
      "_view_count": null,
      "_view_module": "@jupyter-widgets/controls",
      "_view_module_version": "1.5.0",
      "_view_name": "HBoxView",
      "box_style": "",
      "children": [
       "IPY_MODEL_e89a2c0ebff94f49b8f0aa4d3f4830c2",
       "IPY_MODEL_1789ccbd71dd4a64853b0b54ad4862a9",
       "IPY_MODEL_f48cc0b152df451b9bebef8c5148f166"
      ],
      "layout": "IPY_MODEL_a53c99e0c29146f38c2f9dba49ec3c6c"
     }
    },
    "7ca36de256684ad6895953023d16513d": {
     "model_module": "@jupyter-widgets/controls",
     "model_module_version": "1.5.0",
     "model_name": "ProgressStyleModel",
     "state": {
      "_model_module": "@jupyter-widgets/controls",
      "_model_module_version": "1.5.0",
      "_model_name": "ProgressStyleModel",
      "_view_count": null,
      "_view_module": "@jupyter-widgets/base",
      "_view_module_version": "1.2.0",
      "_view_name": "StyleView",
      "bar_color": null,
      "description_width": ""
     }
    },
    "7f3418c25c6f4d60bfb07a99f6236601": {
     "model_module": "@jupyter-widgets/base",
     "model_module_version": "1.2.0",
     "model_name": "LayoutModel",
     "state": {
      "_model_module": "@jupyter-widgets/base",
      "_model_module_version": "1.2.0",
      "_model_name": "LayoutModel",
      "_view_count": null,
      "_view_module": "@jupyter-widgets/base",
      "_view_module_version": "1.2.0",
      "_view_name": "LayoutView",
      "align_content": null,
      "align_items": null,
      "align_self": null,
      "border": null,
      "bottom": null,
      "display": null,
      "flex": null,
      "flex_flow": null,
      "grid_area": null,
      "grid_auto_columns": null,
      "grid_auto_flow": null,
      "grid_auto_rows": null,
      "grid_column": null,
      "grid_gap": null,
      "grid_row": null,
      "grid_template_areas": null,
      "grid_template_columns": null,
      "grid_template_rows": null,
      "height": null,
      "justify_content": null,
      "justify_items": null,
      "left": null,
      "margin": null,
      "max_height": null,
      "max_width": null,
      "min_height": null,
      "min_width": null,
      "object_fit": null,
      "object_position": null,
      "order": null,
      "overflow": null,
      "overflow_x": null,
      "overflow_y": null,
      "padding": null,
      "right": null,
      "top": null,
      "visibility": null,
      "width": null
     }
    },
    "93388e56099744da9bf21e1822532ddc": {
     "model_module": "@jupyter-widgets/controls",
     "model_module_version": "1.5.0",
     "model_name": "DescriptionStyleModel",
     "state": {
      "_model_module": "@jupyter-widgets/controls",
      "_model_module_version": "1.5.0",
      "_model_name": "DescriptionStyleModel",
      "_view_count": null,
      "_view_module": "@jupyter-widgets/base",
      "_view_module_version": "1.2.0",
      "_view_name": "StyleView",
      "description_width": ""
     }
    },
    "a53c99e0c29146f38c2f9dba49ec3c6c": {
     "model_module": "@jupyter-widgets/base",
     "model_module_version": "1.2.0",
     "model_name": "LayoutModel",
     "state": {
      "_model_module": "@jupyter-widgets/base",
      "_model_module_version": "1.2.0",
      "_model_name": "LayoutModel",
      "_view_count": null,
      "_view_module": "@jupyter-widgets/base",
      "_view_module_version": "1.2.0",
      "_view_name": "LayoutView",
      "align_content": null,
      "align_items": null,
      "align_self": null,
      "border": null,
      "bottom": null,
      "display": null,
      "flex": null,
      "flex_flow": null,
      "grid_area": null,
      "grid_auto_columns": null,
      "grid_auto_flow": null,
      "grid_auto_rows": null,
      "grid_column": null,
      "grid_gap": null,
      "grid_row": null,
      "grid_template_areas": null,
      "grid_template_columns": null,
      "grid_template_rows": null,
      "height": null,
      "justify_content": null,
      "justify_items": null,
      "left": null,
      "margin": null,
      "max_height": null,
      "max_width": null,
      "min_height": null,
      "min_width": null,
      "object_fit": null,
      "object_position": null,
      "order": null,
      "overflow": null,
      "overflow_x": null,
      "overflow_y": null,
      "padding": null,
      "right": null,
      "top": null,
      "visibility": null,
      "width": null
     }
    },
    "c9971d0cd0e9423abbfa7853222caadb": {
     "model_module": "@jupyter-widgets/base",
     "model_module_version": "1.2.0",
     "model_name": "LayoutModel",
     "state": {
      "_model_module": "@jupyter-widgets/base",
      "_model_module_version": "1.2.0",
      "_model_name": "LayoutModel",
      "_view_count": null,
      "_view_module": "@jupyter-widgets/base",
      "_view_module_version": "1.2.0",
      "_view_name": "LayoutView",
      "align_content": null,
      "align_items": null,
      "align_self": null,
      "border": null,
      "bottom": null,
      "display": null,
      "flex": null,
      "flex_flow": null,
      "grid_area": null,
      "grid_auto_columns": null,
      "grid_auto_flow": null,
      "grid_auto_rows": null,
      "grid_column": null,
      "grid_gap": null,
      "grid_row": null,
      "grid_template_areas": null,
      "grid_template_columns": null,
      "grid_template_rows": null,
      "height": null,
      "justify_content": null,
      "justify_items": null,
      "left": null,
      "margin": null,
      "max_height": null,
      "max_width": null,
      "min_height": null,
      "min_width": null,
      "object_fit": null,
      "object_position": null,
      "order": null,
      "overflow": null,
      "overflow_x": null,
      "overflow_y": null,
      "padding": null,
      "right": null,
      "top": null,
      "visibility": null,
      "width": null
     }
    },
    "e89a2c0ebff94f49b8f0aa4d3f4830c2": {
     "model_module": "@jupyter-widgets/controls",
     "model_module_version": "1.5.0",
     "model_name": "HTMLModel",
     "state": {
      "_dom_classes": [],
      "_model_module": "@jupyter-widgets/controls",
      "_model_module_version": "1.5.0",
      "_model_name": "HTMLModel",
      "_view_count": null,
      "_view_module": "@jupyter-widgets/controls",
      "_view_module_version": "1.5.0",
      "_view_name": "HTMLView",
      "description": "",
      "description_tooltip": null,
      "layout": "IPY_MODEL_c9971d0cd0e9423abbfa7853222caadb",
      "placeholder": "​",
      "style": "IPY_MODEL_93388e56099744da9bf21e1822532ddc",
      "value": "100%"
     }
    },
    "f2456253f4e14eacbe22edae19a881ff": {
     "model_module": "@jupyter-widgets/controls",
     "model_module_version": "1.5.0",
     "model_name": "DescriptionStyleModel",
     "state": {
      "_model_module": "@jupyter-widgets/controls",
      "_model_module_version": "1.5.0",
      "_model_name": "DescriptionStyleModel",
      "_view_count": null,
      "_view_module": "@jupyter-widgets/base",
      "_view_module_version": "1.2.0",
      "_view_name": "StyleView",
      "description_width": ""
     }
    },
    "f48cc0b152df451b9bebef8c5148f166": {
     "model_module": "@jupyter-widgets/controls",
     "model_module_version": "1.5.0",
     "model_name": "HTMLModel",
     "state": {
      "_dom_classes": [],
      "_model_module": "@jupyter-widgets/controls",
      "_model_module_version": "1.5.0",
      "_model_name": "HTMLModel",
      "_view_count": null,
      "_view_module": "@jupyter-widgets/controls",
      "_view_module_version": "1.5.0",
      "_view_name": "HTMLView",
      "description": "",
      "description_tooltip": null,
      "layout": "IPY_MODEL_221d38489a4a4fb7bc059ad5b683b409",
      "placeholder": "​",
      "style": "IPY_MODEL_f2456253f4e14eacbe22edae19a881ff",
      "value": " 523/523 [00:03&lt;00:00, 336.99it/s]"
     }
    }
   }
  }
 },
 "nbformat": 4,
 "nbformat_minor": 0
}
