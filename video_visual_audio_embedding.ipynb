{
 "cells": [
  {
   "cell_type": "markdown",
   "metadata": {
    "id": "6r0GgXZxIMCy"
   },
   "source": [
    "# Set the Working Directory"
   ]
  },
  {
   "cell_type": "code",
   "execution_count": null,
   "metadata": {
    "id": "8xboDJoqo7KL"
   },
   "outputs": [],
   "source": [
    "import os\n",
    "\n",
    "working_dir = os.getcwd()\n",
    "\n",
    "if os.path.isdir(working_dir):\n",
    "    print(\"Working directory is ready!\")\n",
    "else:\n",
    "    raise ValueError(\"Working directory does not exist\")"
   ]
  },
  {
   "cell_type": "markdown",
   "metadata": {},
   "source": [
    "# Set the Trace Directory"
   ]
  },
  {
   "cell_type": "code",
   "execution_count": null,
   "metadata": {},
   "outputs": [],
   "source": [
    "import yaml\n",
    "\n",
    "# Load configuration file\n",
    "config_path = os.path.join(working_dir, \"configuration.yaml\")\n",
    "with open(config_path, \"r\") as f:\n",
    "    config = yaml.safe_load(f)\n",
    "\n",
    "# Resolve trace directory\n",
    "trace_dir = os.path.join(working_dir, \"data\", config[\"working_trace\"])\n",
    "\n",
    "if os.path.isdir(trace_dir):\n",
    "    print(f\"✅ Trace directory ready: {trace_dir}\")\n",
    "else:\n",
    "    raise FileNotFoundError(f\"❌ Trace directory not found: {trace_dir}\\n\")"
   ]
  },
  {
   "cell_type": "code",
   "execution_count": null,
   "metadata": {},
   "outputs": [],
   "source": [
    "from utils import read_file_ids\n",
    "\n",
    "# Read file IDs from the trace directory\n",
    "file_ids = read_file_ids(trace_dir=trace_dir, overwrite=False)\n",
    "\n",
    "print(f\"📁 Total video files found: {len(file_ids)}\")"
   ]
  },
  {
   "cell_type": "markdown",
   "metadata": {},
   "source": [
    "# Change to the `ImageBind` Directory"
   ]
  },
  {
   "cell_type": "code",
   "execution_count": null,
   "metadata": {},
   "outputs": [],
   "source": [
    "%cd {working_dir}/models/ImageBind"
   ]
  },
  {
   "cell_type": "markdown",
   "metadata": {
    "id": "tLr9EnGDiytZ"
   },
   "source": [
    "# Generate Video Visual/Audio Embeddings"
   ]
  },
  {
   "cell_type": "code",
   "execution_count": null,
   "metadata": {
    "id": "TsqaXRcQjwu7"
   },
   "outputs": [],
   "source": [
    "import numpy as np\n",
    "import torch\n",
    "\n",
    "from imagebind import data\n",
    "from imagebind.models import imagebind_model\n",
    "from imagebind.models.imagebind_model import ModalityType\n",
    "\n",
    "# Select computation device\n",
    "device = torch.device(\"cuda:0\" if torch.cuda.is_available() else \"cpu\")\n",
    "print(f\"✅ Using device: {device}\")\n",
    "\n",
    "# Load the pretrained model\n",
    "model = imagebind_model.imagebind_huge(pretrained=True)\n",
    "model.eval()\n",
    "model.to(device)\n",
    "\n",
    "print(\"✅ Model initialized successfully.\")"
   ]
  },
  {
   "cell_type": "markdown",
   "metadata": {
    "id": "sWq64PalkVnZ"
   },
   "source": [
    "## Generate Video Visual Embeddings"
   ]
  },
  {
   "cell_type": "code",
   "execution_count": null,
   "metadata": {},
   "outputs": [],
   "source": [
    "feature_dir = os.path.join(trace_dir, \"features\", \"video_visual_embedding\")\n",
    "os.makedirs(feature_dir, exist_ok=True)\n",
    "\n",
    "for idx, file_id in enumerate(file_ids, start=1):\n",
    "    output_file = os.path.join(feature_dir, f\"{file_id}.npy\")\n",
    "    \n",
    "    if os.path.exists(output_file):\n",
    "        print(f\"✅ Embedding already exists: {file_id}.npy\")\n",
    "        continue\n",
    "\n",
    "    video_path = os.path.join(trace_dir, \"videos\", f\"{file_id}.mp4\")\n",
    "    print(f\"🛠️ [{idx}/{len(file_ids)}] Generating: {file_id}.npy\")\n",
    "\n",
    "    # Load and transform video\n",
    "    inputs = {\n",
    "        ModalityType.VISION: data.load_and_transform_video_data([video_path], device)\n",
    "    }\n",
    "\n",
    "    # Generate embeddings\n",
    "    with torch.no_grad():\n",
    "        embedding = model(inputs)\n",
    "\n",
    "    # Extract and save embeddings\n",
    "    video_embedding = embedding[ModalityType.VISION].detach().cpu().numpy()\n",
    "    with open(output_file, \"wb\") as f:\n",
    "        np.save(f, video_embedding)\n",
    "\n",
    "    print(f\"📦 Saved embedding: {file_id}.npy (shape: {video_embedding.shape})\")"
   ]
  },
  {
   "cell_type": "markdown",
   "metadata": {
    "id": "oI3eCy-hkZSa"
   },
   "source": [
    "## Generate Video Audio Embeddings"
   ]
  },
  {
   "cell_type": "code",
   "execution_count": null,
   "metadata": {
    "id": "sSpa04daQpw_"
   },
   "outputs": [],
   "source": [
    "feature_dir = os.path.join(trace_dir, \"features\", \"video_audio_embedding\")\n",
    "os.makedirs(feature_dir, exist_ok=True)\n",
    "\n",
    "for idx, file_id in enumerate(file_ids, start=1):\n",
    "    output_file = os.path.join(feature_dir, f\"{file_id}.npy\")\n",
    "    \n",
    "    if os.path.exists(output_file):\n",
    "        print(f\"✅ Embedding already exists: {file_id}.npy\")\n",
    "        continue\n",
    "\n",
    "    audio_path = os.path.join(trace_dir, \"audios\", f\"{file_id}.mp3\")\n",
    "    print(f\"🛠️ [{idx}/{len(file_ids)}] Generating: {file_id}.npy\")\n",
    "\n",
    "    # Load and transform audio\n",
    "    inputs = {\n",
    "        ModalityType.AUDIO: data.load_and_transform_audio_data([audio_path], device)\n",
    "    }\n",
    "\n",
    "    # Generate embeddings\n",
    "    with torch.no_grad():\n",
    "        embedding = model(inputs)\n",
    "\n",
    "    # Extract and save embeddings\n",
    "    audio_embedding = embedding[ModalityType.AUDIO].detach().cpu().numpy()\n",
    "    with open(output_file, \"wb\") as f:\n",
    "        np.save(f, audio_embedding)\n",
    "\n",
    "    print(f\"📦 Saved embedding: {file_id}.npy (shape: {audio_embedding.shape})\")"
   ]
  }
 ],
 "metadata": {
  "accelerator": "GPU",
  "colab": {
   "authorship_tag": "ABX9TyNBofbibhmoNKAAyfiSTJil",
   "gpuType": "T4",
   "provenance": [
    {
     "file_id": "10hfMPfk1BmnfbYJwxQpKkvr6AYMXt6hP",
     "timestamp": 1704313608366
    }
   ]
  },
  "kernelspec": {
   "display_name": "clipmind",
   "language": "python",
   "name": "python3"
  },
  "language_info": {
   "codemirror_mode": {
    "name": "ipython",
    "version": 3
   },
   "file_extension": ".py",
   "mimetype": "text/x-python",
   "name": "python",
   "nbconvert_exporter": "python",
   "pygments_lexer": "ipython3",
   "version": "3.9.19"
  }
 },
 "nbformat": 4,
 "nbformat_minor": 0
}
