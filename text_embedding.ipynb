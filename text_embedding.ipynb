{
 "cells": [
  {
   "cell_type": "markdown",
   "metadata": {},
   "source": [
    "# Set the Working Directory"
   ]
  },
  {
   "cell_type": "code",
   "execution_count": null,
   "metadata": {},
   "outputs": [],
   "source": [
    "import os\n",
    "\n",
    "working_dir = os.getcwd()\n",
    "\n",
    "if os.path.isdir(working_dir):\n",
    "    print(\"Working directory is ready!\")\n",
    "else:\n",
    "    raise ValueError(\"Working directory does not exist\")"
   ]
  },
  {
   "cell_type": "markdown",
   "metadata": {},
   "source": [
    "# Set the Trace Directory"
   ]
  },
  {
   "cell_type": "code",
   "execution_count": null,
   "metadata": {},
   "outputs": [],
   "source": [
    "import yaml\n",
    "\n",
    "# Load configuration file\n",
    "config_path = os.path.join(working_dir, \"configuration.yaml\")\n",
    "with open(config_path, \"r\") as f:\n",
    "    config = yaml.safe_load(f)\n",
    "\n",
    "# Resolve trace directory\n",
    "trace_dir = os.path.join(working_dir, \"data\", config[\"working_trace\"])\n",
    "\n",
    "if os.path.isdir(trace_dir):\n",
    "    print(f\"✅ Trace directory ready: {trace_dir}\")\n",
    "else:\n",
    "    raise FileNotFoundError(f\"❌ Trace directory not found: {trace_dir}\\n\")"
   ]
  },
  {
   "cell_type": "markdown",
   "metadata": {
    "id": "0zpT2zWV-dJ3"
   },
   "source": [
    "# Generate Text Embeddings"
   ]
  },
  {
   "cell_type": "code",
   "execution_count": null,
   "metadata": {
    "id": "iCZycecM6wWk"
   },
   "outputs": [],
   "source": [
    "import numpy as np\n",
    "from openai import OpenAI\n",
    "from tqdm.notebook import tqdm\n",
    "import yaml\n",
    "\n",
    "text_features = [\n",
    "    \"features/user_defined_metadata\",\n",
    "    \"features/llm_generated_description\",\n",
    "    \"features/llm_generated_keywords\",\n",
    "]\n",
    "\n",
    "for feature in text_features:\n",
    "    text_dir = os.path.join(trace_dir, feature)\n",
    "    \n",
    "    texts = {}\n",
    "\n",
    "    for filename in tqdm(os.listdir(text_dir)):\n",
    "        if not filename.endswith(\".txt\"):\n",
    "            continue  # Skip non-text files\n",
    "\n",
    "        file_path = os.path.join(text_dir, filename)\n",
    "        with open(file_path, \"r\", encoding=\"utf-8\") as f:\n",
    "            text = f.read()\n",
    "            if not isinstance(text, str):\n",
    "                text = text.decode()\n",
    "                \n",
    "        file_id = filename.replace(\".txt\", \"\")\n",
    "        texts[file_id] = text\n",
    "\n",
    "    print(f\"✅ Loaded {len(texts)} file IDs from `{text_dir}`\")\n",
    "\n",
    "    # Initialize OpenAI client\n",
    "    client = OpenAI(\n",
    "        api_key=config[\"openai\"][\"api_key\"],\n",
    "    )\n",
    "\n",
    "    output_dir = os.path.join(trace_dir, f\"{text_dir}_embedding\")\n",
    "    os.makedirs(output_dir, exist_ok=True)\n",
    "\n",
    "    for idx, file_id in enumerate(texts, start=1):\n",
    "        output_file = os.path.join(output_dir, f\"{file_id}.npy\")\n",
    "        \n",
    "        if os.path.exists(output_file):\n",
    "            print(f\"✅ Embedding already exists: {file_id}.npy\")\n",
    "            continue\n",
    "        \n",
    "        print(f\"🛠️ [{idx}/{len(texts)}] Generating: {file_id}.npy\")\n",
    "\n",
    "        # Generate text embeddings\n",
    "        embedding = client.embeddings.create(\n",
    "            input=texts[file_id],\n",
    "            model=\"text-embedding-ada-002\"\n",
    "        )\n",
    "        embedding = embedding.data[0].embedding\n",
    "        \n",
    "        # Save embeddings\n",
    "        with open(output_file, \"wb\") as f:\n",
    "            np.save(f, embedding)\n",
    "            \n",
    "        print(embedding)\n",
    "\n",
    "        print(f\"📦 Saved embedding: {file_id}.npy (shape: {np.shape(embedding)})\")"
   ]
  }
 ],
 "metadata": {
  "colab": {
   "authorship_tag": "ABX9TyOmP7YMDVErkT8+454Scr63",
   "provenance": [],
   "toc_visible": true
  },
  "kernelspec": {
   "display_name": "clipmind",
   "language": "python",
   "name": "python3"
  },
  "language_info": {
   "codemirror_mode": {
    "name": "ipython",
    "version": 3
   },
   "file_extension": ".py",
   "mimetype": "text/x-python",
   "name": "python",
   "nbconvert_exporter": "python",
   "pygments_lexer": "ipython3",
   "version": "3.9.19"
  }
 },
 "nbformat": 4,
 "nbformat_minor": 0
}
