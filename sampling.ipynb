{
 "cells": [
  {
   "cell_type": "markdown",
   "metadata": {},
   "source": [
    "# Set the Working Directory"
   ]
  },
  {
   "cell_type": "code",
   "execution_count": null,
   "metadata": {},
   "outputs": [],
   "source": [
    "import os\n",
    "\n",
    "working_dir = os.getcwd()\n",
    "\n",
    "if os.path.isdir(working_dir):\n",
    "    print(\"Working directory is ready!\")\n",
    "else:\n",
    "    raise ValueError(\"Working directory does not exist\")"
   ]
  },
  {
   "cell_type": "markdown",
   "metadata": {},
   "source": [
    "# Set the Trace Directory"
   ]
  },
  {
   "cell_type": "code",
   "execution_count": null,
   "metadata": {},
   "outputs": [],
   "source": [
    "import yaml\n",
    "\n",
    "# Load configuration file\n",
    "config_path = os.path.join(working_dir, \"configuration.yaml\")\n",
    "with open(config_path, \"r\") as f:\n",
    "    config = yaml.safe_load(f)\n",
    "\n",
    "# Resolve trace directory\n",
    "trace_dir = os.path.join(working_dir, \"data\", config[\"working_trace\"])\n",
    "\n",
    "if os.path.isdir(trace_dir):\n",
    "    print(f\"✅ Trace directory ready: {trace_dir}\")\n",
    "else:\n",
    "    raise FileNotFoundError(f\"❌ Trace directory not found: {trace_dir}\\n\")"
   ]
  },
  {
   "cell_type": "code",
   "execution_count": null,
   "metadata": {},
   "outputs": [],
   "source": [
    "from utils import read_file_ids\n",
    "\n",
    "# Read file IDs from the trace directory\n",
    "file_ids = read_file_ids(trace_dir=trace_dir, overwrite=False)\n",
    "\n",
    "print(f\"📁 Total video files found: {len(file_ids)}\")"
   ]
  },
  {
   "cell_type": "markdown",
   "metadata": {
    "id": "ilMntRv-Fk1m"
   },
   "source": [
    "# Build Multi-Feature Embedding Index"
   ]
  },
  {
   "cell_type": "code",
   "execution_count": null,
   "metadata": {
    "executionInfo": {
     "elapsed": 2005,
     "status": "ok",
     "timestamp": 1706021225581,
     "user": {
      "displayName": "Aoyu Gong",
      "userId": "08110456228788635196"
     },
     "user_tz": -60
    },
    "id": "IXm_OBQZhQ3F"
   },
   "outputs": [],
   "source": [
    "from utils import build_file_embeddings\n",
    "\n",
    "features_embedding_dirs = [\n",
    "    (\"video_audio_content\", \"features/video_audio_embedding\"),\n",
    "    (\"video_visual_content\", \"features/video_visual_embedding\"),\n",
    "    (\"llm_generated_description\", \"features/llm_generated_description_embedding\"),\n",
    "    (\"user_defined_metadata\", \"features/user_defined_metadata_embedding\"),\n",
    "    (\"llm_generated_keywords\", \"features/llm_generated_keywords_embedding\"),\n",
    "]\n",
    "output_path = os.path.join(trace_dir, \"file_embeddings_full.pickle\")\n",
    "\n",
    "file_embeddings, shapes = build_file_embeddings(trace_dir, file_ids, features_embedding_dirs, output_path)"
   ]
  },
  {
   "cell_type": "markdown",
   "metadata": {
    "id": "YJfvp3UuxWQk"
   },
   "source": [
    "# Build Concatenated Embedding Matrix"
   ]
  },
  {
   "cell_type": "code",
   "execution_count": null,
   "metadata": {},
   "outputs": [],
   "source": [
    "from utils import build_ordered_embedding_matrix\n",
    "\n",
    "concat_embedding_matrix, ordered_ids = build_ordered_embedding_matrix(\n",
    "    trace_dir, file_ids, file_embeddings, shapes\n",
    ")"
   ]
  },
  {
   "cell_type": "markdown",
   "metadata": {
    "id": "6bZSV0Xu1fJ6"
   },
   "source": [
    "# Compute Pairwise Cosine Similarity"
   ]
  },
  {
   "cell_type": "code",
   "execution_count": null,
   "metadata": {
    "executionInfo": {
     "elapsed": 2405,
     "status": "ok",
     "timestamp": 1706021241746,
     "user": {
      "displayName": "Aoyu Gong",
      "userId": "08110456228788635196"
     },
     "user_tz": -60
    },
    "id": "7PYT8K7QkLlv"
   },
   "outputs": [],
   "source": [
    "import numpy as np\n",
    "import numpy.ma as ma\n",
    "from sklearn.metrics.pairwise import cosine_similarity\n",
    "\n",
    "# Compute pairwise cosine similarity\n",
    "similarity_matrix = cosine_similarity(concat_embedding_matrix)\n",
    "\n",
    "# Mask self-similarity and lower triangle\n",
    "nof_rows, nof_cols = similarity_matrix.shape\n",
    "mask = np.tril(np.ones((nof_rows, nof_cols)), k=0)\n",
    "\n",
    "masked_similarity_matrix = ma.masked_array(similarity_matrix, mask=mask)\n",
    "\n",
    "print(f\"✅ Computed and masked similarity matrix. Shape: {masked_similarity_matrix.shape}\")"
   ]
  },
  {
   "cell_type": "markdown",
   "metadata": {
    "id": "WaeW0yEUBt5A"
   },
   "source": [
    "# Plot CDF of Pairwise Cosine Similarity"
   ]
  },
  {
   "cell_type": "code",
   "execution_count": null,
   "metadata": {
    "colab": {
     "base_uri": "https://localhost:8080/",
     "height": 323
    },
    "executionInfo": {
     "elapsed": 2214,
     "status": "ok",
     "timestamp": 1706021244889,
     "user": {
      "displayName": "Aoyu Gong",
      "userId": "08110456228788635196"
     },
     "user_tz": -60
    },
    "id": "9MFoMcBwBuop",
    "outputId": "a71b0600-5000-40c5-ac14-a34ffac17d54"
   },
   "outputs": [],
   "source": [
    "import matplotlib.pyplot as plt\n",
    "\n",
    "flattened_values = masked_similarity_matrix.compressed()  # Remove masked entries\n",
    "sorted_values = np.sort(flattened_values)\n",
    "cdf = np.arange(1, len(sorted_values) + 1) / len(sorted_values)\n",
    "\n",
    "min_similarity, max_similarity = np.min(sorted_values), np.max(sorted_values)\n",
    "print(f\"🔍 Cosine similarity range: {min_similarity:.4f} to {max_similarity:.4f}\")\n",
    "print(f\"🎞️ Total number of video pairs: {len(sorted_values):,}\")\n",
    "\n",
    "fig, ax = plt.subplots(figsize=(6, 3))\n",
    "\n",
    "ax.plot(sorted_values, cdf, '-', color=\"#00A4EF\", linewidth=4)\n",
    "\n",
    "ax.tick_params(axis='x', labelsize=15)\n",
    "ax.set_xlabel('Cosine similarity', fontsize=15)\n",
    "\n",
    "ax.set_ylim(-0.05, 1.05)\n",
    "ax.set_yticks(np.arange(0, 1.2, 0.2))\n",
    "ax.tick_params(axis='y', labelsize=15)\n",
    "ax.set_ylabel('CDF', fontsize=15)\n",
    "\n",
    "ax.grid(ls='--', zorder=3)\n",
    "\n",
    "output_dir = os.path.join(trace_dir, \"figures\")\n",
    "os.makedirs(output_dir, exist_ok=True)\n",
    "fig.savefig(os.path.join(output_dir, \"pairwise_cosine_similarity_cdf.pdf\"), bbox_inches=\"tight\")\n",
    "\n",
    "plt.show()"
   ]
  },
  {
   "cell_type": "markdown",
   "metadata": {
    "id": "TzrfoPZ3A4xq"
   },
   "source": [
    "# Sample Video Pairs"
   ]
  },
  {
   "cell_type": "code",
   "execution_count": null,
   "metadata": {
    "id": "fuDSOVKOkLoH"
   },
   "outputs": [],
   "source": [
    "import pickle\n",
    "import random\n",
    "\n",
    "sampled_pairs_path = os.path.join(trace_dir, \"sampled_pairs.pickle\")\n",
    "\n",
    "# Sample video pairs from similarity intervals\n",
    "sampled_pairs = []\n",
    "nof_bins = 5\n",
    "delta = (max_similarity - min_similarity) / nof_bins\n",
    "nof_sampled_pairs_per_bin = 10\n",
    "\n",
    "for lower in np.arange(min_similarity, max_similarity, delta):\n",
    "    upper = lower + delta\n",
    "    \n",
    "    # Find video pairs within an interval and not masked\n",
    "    indexes = list(zip(*np.where(\n",
    "        (masked_similarity_matrix >= lower) &\n",
    "        (masked_similarity_matrix < upper) &\n",
    "        (~masked_similarity_matrix.mask)\n",
    "    )))\n",
    "    print(f\"[{lower:.2f}, {upper:.2f}): {len(indexes):,} pairs\")\n",
    "\n",
    "    # Shuffle and sample from the interval\n",
    "    random.shuffle(indexes)\n",
    "    sampled_count = min(nof_sampled_pairs_per_bin, len(indexes))\n",
    "    sampled_pairs += random.sample(indexes, sampled_count)\n",
    "    print(f\"  Sampled {sampled_count} pairs\")\n",
    "\n",
    "assert len(sampled_pairs) == len(set(sampled_pairs)), \"Sampled pairs must be unique\"\n",
    "\n",
    "# Convert matrix indices to file IDs\n",
    "for idx, (i, j) in enumerate(sampled_pairs):\n",
    "    assert i < j, \"Duplicate pairs in reverse order\"\n",
    "    sampled_pairs[idx] = (ordered_ids[i], ordered_ids[j])\n",
    "\n",
    "# Save sampled video pairs to pickle\n",
    "with open(sampled_pairs_path, \"wb\") as f:\n",
    "    pickle.dump(sampled_pairs, f)\n",
    "print(f\"✅ Saved sampled pairs to `{sampled_pairs_path}`\")"
   ]
  }
 ],
 "metadata": {
  "colab": {
   "authorship_tag": "ABX9TyMBpeP2epJex+rec+go2aFT",
   "provenance": [],
   "toc_visible": true
  },
  "kernelspec": {
   "display_name": "clipmind",
   "language": "python",
   "name": "python3"
  },
  "language_info": {
   "codemirror_mode": {
    "name": "ipython",
    "version": 3
   },
   "file_extension": ".py",
   "mimetype": "text/x-python",
   "name": "python",
   "nbconvert_exporter": "python",
   "pygments_lexer": "ipython3",
   "version": "3.9.19"
  },
  "widgets": {
   "application/vnd.jupyter.widget-state+json": {
    "00a6ac69c810438fa98731d201cd5d46": {
     "model_module": "@jupyter-widgets/controls",
     "model_module_version": "1.5.0",
     "model_name": "FloatProgressModel",
     "state": {
      "_dom_classes": [],
      "_model_module": "@jupyter-widgets/controls",
      "_model_module_version": "1.5.0",
      "_model_name": "FloatProgressModel",
      "_view_count": null,
      "_view_module": "@jupyter-widgets/controls",
      "_view_module_version": "1.5.0",
      "_view_name": "ProgressView",
      "bar_style": "success",
      "description": "",
      "description_tooltip": null,
      "layout": "IPY_MODEL_589b33592a9346db835cf2af9a4342de",
      "max": 531,
      "min": 0,
      "orientation": "horizontal",
      "style": "IPY_MODEL_874dbf9ad9ab4a4294a48cb532e71c25",
      "value": 531
     }
    },
    "07a885c09ca14654ad24b29a39575ccf": {
     "model_module": "@jupyter-widgets/controls",
     "model_module_version": "1.5.0",
     "model_name": "HTMLModel",
     "state": {
      "_dom_classes": [],
      "_model_module": "@jupyter-widgets/controls",
      "_model_module_version": "1.5.0",
      "_model_name": "HTMLModel",
      "_view_count": null,
      "_view_module": "@jupyter-widgets/controls",
      "_view_module_version": "1.5.0",
      "_view_name": "HTMLView",
      "description": "",
      "description_tooltip": null,
      "layout": "IPY_MODEL_bd949e547b4f441390aaa057144460b2",
      "placeholder": "​",
      "style": "IPY_MODEL_e847785969f44a80897b809fe73e3bcd",
      "value": " 531/531 [00:10&lt;00:00, 57.10it/s]"
     }
    },
    "589b33592a9346db835cf2af9a4342de": {
     "model_module": "@jupyter-widgets/base",
     "model_module_version": "1.2.0",
     "model_name": "LayoutModel",
     "state": {
      "_model_module": "@jupyter-widgets/base",
      "_model_module_version": "1.2.0",
      "_model_name": "LayoutModel",
      "_view_count": null,
      "_view_module": "@jupyter-widgets/base",
      "_view_module_version": "1.2.0",
      "_view_name": "LayoutView",
      "align_content": null,
      "align_items": null,
      "align_self": null,
      "border": null,
      "bottom": null,
      "display": null,
      "flex": null,
      "flex_flow": null,
      "grid_area": null,
      "grid_auto_columns": null,
      "grid_auto_flow": null,
      "grid_auto_rows": null,
      "grid_column": null,
      "grid_gap": null,
      "grid_row": null,
      "grid_template_areas": null,
      "grid_template_columns": null,
      "grid_template_rows": null,
      "height": null,
      "justify_content": null,
      "justify_items": null,
      "left": null,
      "margin": null,
      "max_height": null,
      "max_width": null,
      "min_height": null,
      "min_width": null,
      "object_fit": null,
      "object_position": null,
      "order": null,
      "overflow": null,
      "overflow_x": null,
      "overflow_y": null,
      "padding": null,
      "right": null,
      "top": null,
      "visibility": null,
      "width": null
     }
    },
    "67d24ae178d44749842b113632d2c0fb": {
     "model_module": "@jupyter-widgets/controls",
     "model_module_version": "1.5.0",
     "model_name": "HBoxModel",
     "state": {
      "_dom_classes": [],
      "_model_module": "@jupyter-widgets/controls",
      "_model_module_version": "1.5.0",
      "_model_name": "HBoxModel",
      "_view_count": null,
      "_view_module": "@jupyter-widgets/controls",
      "_view_module_version": "1.5.0",
      "_view_name": "HBoxView",
      "box_style": "",
      "children": [
       "IPY_MODEL_c03ac54fd4ac4086ad08a968d648fc2c",
       "IPY_MODEL_00a6ac69c810438fa98731d201cd5d46",
       "IPY_MODEL_07a885c09ca14654ad24b29a39575ccf"
      ],
      "layout": "IPY_MODEL_e5f4520184434200a7fe30d2d4572072"
     }
    },
    "6ec2c9ab2b384c69a9428db46d4ae07d": {
     "model_module": "@jupyter-widgets/base",
     "model_module_version": "1.2.0",
     "model_name": "LayoutModel",
     "state": {
      "_model_module": "@jupyter-widgets/base",
      "_model_module_version": "1.2.0",
      "_model_name": "LayoutModel",
      "_view_count": null,
      "_view_module": "@jupyter-widgets/base",
      "_view_module_version": "1.2.0",
      "_view_name": "LayoutView",
      "align_content": null,
      "align_items": null,
      "align_self": null,
      "border": null,
      "bottom": null,
      "display": null,
      "flex": null,
      "flex_flow": null,
      "grid_area": null,
      "grid_auto_columns": null,
      "grid_auto_flow": null,
      "grid_auto_rows": null,
      "grid_column": null,
      "grid_gap": null,
      "grid_row": null,
      "grid_template_areas": null,
      "grid_template_columns": null,
      "grid_template_rows": null,
      "height": null,
      "justify_content": null,
      "justify_items": null,
      "left": null,
      "margin": null,
      "max_height": null,
      "max_width": null,
      "min_height": null,
      "min_width": null,
      "object_fit": null,
      "object_position": null,
      "order": null,
      "overflow": null,
      "overflow_x": null,
      "overflow_y": null,
      "padding": null,
      "right": null,
      "top": null,
      "visibility": null,
      "width": null
     }
    },
    "874dbf9ad9ab4a4294a48cb532e71c25": {
     "model_module": "@jupyter-widgets/controls",
     "model_module_version": "1.5.0",
     "model_name": "ProgressStyleModel",
     "state": {
      "_model_module": "@jupyter-widgets/controls",
      "_model_module_version": "1.5.0",
      "_model_name": "ProgressStyleModel",
      "_view_count": null,
      "_view_module": "@jupyter-widgets/base",
      "_view_module_version": "1.2.0",
      "_view_name": "StyleView",
      "bar_color": null,
      "description_width": ""
     }
    },
    "9de6dd9931354b3684c5513548c67635": {
     "model_module": "@jupyter-widgets/controls",
     "model_module_version": "1.5.0",
     "model_name": "DescriptionStyleModel",
     "state": {
      "_model_module": "@jupyter-widgets/controls",
      "_model_module_version": "1.5.0",
      "_model_name": "DescriptionStyleModel",
      "_view_count": null,
      "_view_module": "@jupyter-widgets/base",
      "_view_module_version": "1.2.0",
      "_view_name": "StyleView",
      "description_width": ""
     }
    },
    "bd949e547b4f441390aaa057144460b2": {
     "model_module": "@jupyter-widgets/base",
     "model_module_version": "1.2.0",
     "model_name": "LayoutModel",
     "state": {
      "_model_module": "@jupyter-widgets/base",
      "_model_module_version": "1.2.0",
      "_model_name": "LayoutModel",
      "_view_count": null,
      "_view_module": "@jupyter-widgets/base",
      "_view_module_version": "1.2.0",
      "_view_name": "LayoutView",
      "align_content": null,
      "align_items": null,
      "align_self": null,
      "border": null,
      "bottom": null,
      "display": null,
      "flex": null,
      "flex_flow": null,
      "grid_area": null,
      "grid_auto_columns": null,
      "grid_auto_flow": null,
      "grid_auto_rows": null,
      "grid_column": null,
      "grid_gap": null,
      "grid_row": null,
      "grid_template_areas": null,
      "grid_template_columns": null,
      "grid_template_rows": null,
      "height": null,
      "justify_content": null,
      "justify_items": null,
      "left": null,
      "margin": null,
      "max_height": null,
      "max_width": null,
      "min_height": null,
      "min_width": null,
      "object_fit": null,
      "object_position": null,
      "order": null,
      "overflow": null,
      "overflow_x": null,
      "overflow_y": null,
      "padding": null,
      "right": null,
      "top": null,
      "visibility": null,
      "width": null
     }
    },
    "c03ac54fd4ac4086ad08a968d648fc2c": {
     "model_module": "@jupyter-widgets/controls",
     "model_module_version": "1.5.0",
     "model_name": "HTMLModel",
     "state": {
      "_dom_classes": [],
      "_model_module": "@jupyter-widgets/controls",
      "_model_module_version": "1.5.0",
      "_model_name": "HTMLModel",
      "_view_count": null,
      "_view_module": "@jupyter-widgets/controls",
      "_view_module_version": "1.5.0",
      "_view_name": "HTMLView",
      "description": "",
      "description_tooltip": null,
      "layout": "IPY_MODEL_6ec2c9ab2b384c69a9428db46d4ae07d",
      "placeholder": "​",
      "style": "IPY_MODEL_9de6dd9931354b3684c5513548c67635",
      "value": "100%"
     }
    },
    "e5f4520184434200a7fe30d2d4572072": {
     "model_module": "@jupyter-widgets/base",
     "model_module_version": "1.2.0",
     "model_name": "LayoutModel",
     "state": {
      "_model_module": "@jupyter-widgets/base",
      "_model_module_version": "1.2.0",
      "_model_name": "LayoutModel",
      "_view_count": null,
      "_view_module": "@jupyter-widgets/base",
      "_view_module_version": "1.2.0",
      "_view_name": "LayoutView",
      "align_content": null,
      "align_items": null,
      "align_self": null,
      "border": null,
      "bottom": null,
      "display": null,
      "flex": null,
      "flex_flow": null,
      "grid_area": null,
      "grid_auto_columns": null,
      "grid_auto_flow": null,
      "grid_auto_rows": null,
      "grid_column": null,
      "grid_gap": null,
      "grid_row": null,
      "grid_template_areas": null,
      "grid_template_columns": null,
      "grid_template_rows": null,
      "height": null,
      "justify_content": null,
      "justify_items": null,
      "left": null,
      "margin": null,
      "max_height": null,
      "max_width": null,
      "min_height": null,
      "min_width": null,
      "object_fit": null,
      "object_position": null,
      "order": null,
      "overflow": null,
      "overflow_x": null,
      "overflow_y": null,
      "padding": null,
      "right": null,
      "top": null,
      "visibility": null,
      "width": null
     }
    },
    "e847785969f44a80897b809fe73e3bcd": {
     "model_module": "@jupyter-widgets/controls",
     "model_module_version": "1.5.0",
     "model_name": "DescriptionStyleModel",
     "state": {
      "_model_module": "@jupyter-widgets/controls",
      "_model_module_version": "1.5.0",
      "_model_name": "DescriptionStyleModel",
      "_view_count": null,
      "_view_module": "@jupyter-widgets/base",
      "_view_module_version": "1.2.0",
      "_view_name": "StyleView",
      "description_width": ""
     }
    }
   }
  }
 },
 "nbformat": 4,
 "nbformat_minor": 0
}
