{
 "cells": [
  {
   "cell_type": "markdown",
   "metadata": {},
   "source": [
    "# Set the Working Directory"
   ]
  },
  {
   "cell_type": "code",
   "execution_count": null,
   "metadata": {},
   "outputs": [],
   "source": [
    "import os\n",
    "\n",
    "working_dir = os.getcwd()\n",
    "\n",
    "if os.path.isdir(working_dir):\n",
    "    print(\"Working directory is ready!\")\n",
    "else:\n",
    "    raise ValueError(\"Working directory does not exist\")"
   ]
  },
  {
   "cell_type": "markdown",
   "metadata": {},
   "source": [
    "# Set the Trace Directory"
   ]
  },
  {
   "cell_type": "code",
   "execution_count": null,
   "metadata": {},
   "outputs": [],
   "source": [
    "import yaml\n",
    "\n",
    "# Load configuration file\n",
    "config_path = os.path.join(working_dir, \"configuration.yaml\")\n",
    "with open(config_path, \"r\") as f:\n",
    "    config = yaml.safe_load(f)\n",
    "\n",
    "# Resolve trace directory\n",
    "trace_dir = os.path.join(working_dir, \"data\", config[\"working_trace\"])\n",
    "\n",
    "if os.path.isdir(trace_dir):\n",
    "    print(f\"✅ Trace directory ready: {trace_dir}\")\n",
    "else:\n",
    "    raise FileNotFoundError(f\"❌ Trace directory not found: {trace_dir}\\n\")"
   ]
  },
  {
   "cell_type": "markdown",
   "metadata": {
    "id": "CPjRAecPIO59"
   },
   "source": [
    "# Load Metadata and Sampled Video Pairs\n",
    "⚠️ Please ensure [user-defined metadata has been processed](user_defined_metadata.ipynb) and [video pairs have been sampled](sampling.ipynb) before running this cell."
   ]
  },
  {
   "cell_type": "code",
   "execution_count": null,
   "metadata": {
    "id": "m4H2nReqH_Xw"
   },
   "outputs": [],
   "source": [
    "import random\n",
    "from utils import load_pickle_file\n",
    "\n",
    "# Load pickle files\n",
    "metadata = load_pickle_file(os.path.join(trace_dir, \"metadata.pickle\"))\n",
    "sampled_pairs = load_pickle_file(os.path.join(trace_dir, \"sampled_pairs.pickle\"))\n",
    "\n",
    "# Shuffle video pairs\n",
    "random.shuffle(sampled_pairs)"
   ]
  },
  {
   "cell_type": "markdown",
   "metadata": {
    "id": "0NgNOaDhXg5P"
   },
   "source": [
    "# Create or Load Annotations"
   ]
  },
  {
   "cell_type": "code",
   "execution_count": null,
   "metadata": {},
   "outputs": [],
   "source": [
    "from glob import glob\n",
    "import pickle\n",
    "\n",
    "def create_or_load_annotation(trace_dir):\n",
    "    annotations_dir = os.path.join(trace_dir, \"annotations\")\n",
    "    os.makedirs(annotations_dir, exist_ok=True)\n",
    "\n",
    "    # List existing annotators\n",
    "    existing_files = sorted(glob(os.path.join(annotations_dir, \"annotator_*.pickle\")))\n",
    "    existing_annotators = [os.path.splitext(os.path.basename(f))[0] for f in existing_files]\n",
    "\n",
    "    if existing_annotators:\n",
    "        print(\"\\n📝 Existing annotators:\")\n",
    "        print(f\"  [0] Create a new annotator\")\n",
    "        for idx, name in enumerate(existing_annotators, start=1):\n",
    "            print(f\"  [{idx}] {name}\")\n",
    "\n",
    "        # Prompt user to select an annotator by number\n",
    "        while True:\n",
    "            choice = input(\"\\nSelect an annotator by number (enter '0' to create new): \").strip()\n",
    "            if choice.isdigit() and 0 <= int(choice) <= len(existing_annotators):\n",
    "                choice = int(choice)\n",
    "                break\n",
    "            print(\"Invalid input. Please enter a valid number.\")\n",
    "\n",
    "        if choice == 0:\n",
    "            # Create a new annotator\n",
    "            existing_ids = [int(name.split('_')[1]) for name in existing_annotators]\n",
    "            new_id = max(existing_ids, default=0) + 1\n",
    "            annotator = f\"annotator_{new_id}\"\n",
    "            annotation = {}\n",
    "            print(f\"\\n🆕 Created an new annotator: {annotator}\")\n",
    "        else:\n",
    "            # Load an existing annotator\n",
    "            annotator = existing_annotators[choice - 1]\n",
    "            with open(os.path.join(annotations_dir, f\"{annotator}.pickle\"), \"rb\") as file:\n",
    "                annotation = pickle.load(file)\n",
    "            print(f\"\\n✅ Loaded annotation for {annotator}\")\n",
    "            print(f\"# Annotated pairs: {len(annotation)}\")\n",
    "\n",
    "    else:\n",
    "        # Create the first annotator\n",
    "        annotator = \"annotator_1\"\n",
    "        annotation = {}\n",
    "        print(f\"\\n🆕 No existing annotators found. Created new annotator: {annotator}\")\n",
    "\n",
    "    # Save annotation to pickle\n",
    "    with open(os.path.join(annotations_dir, f\"{annotator}.pickle\"), \"wb\") as file:\n",
    "        pickle.dump(annotation, file)\n",
    "\n",
    "    return annotator, annotation\n",
    "\n",
    "# Create or load annotation\n",
    "annotator, annotation = create_or_load_annotation(trace_dir)"
   ]
  },
  {
   "cell_type": "markdown",
   "metadata": {
    "id": "D9XxThClO5qr"
   },
   "source": [
    "# Annotate Sampled Video Pairs\n",
    "\n",
    "> Manually loop through the cell below 🔽"
   ]
  },
  {
   "cell_type": "code",
   "execution_count": null,
   "metadata": {
    "cellView": "form",
    "id": "-NQD13JUSt8Q"
   },
   "outputs": [],
   "source": [
    "from utils import *\n",
    "\n",
    "id_1, id_2 = get_next_unannotated_pair(sampled_pairs, annotation)\n",
    "\n",
    "# Exit loop if all pairs are annotated\n",
    "if (id_1, id_2) == (None, None):\n",
    "    print(\"✅ Completed annotation!\")\n",
    "    raise StopIteration(\"No more pairs to annotate.\")\n",
    "\n",
    "display_metadata_and_videos([id_1, id_2], metadata, trace_dir)\n",
    "\n",
    "# Collect annotation input\n",
    "response = valid_input([\"yes\", \"no\"], prompt=\"Are the two videos similar? [yes/no]: \")\n",
    "annotation[(id_1, id_2)] = (response == \"yes\")\n",
    "\n",
    "# Save annotation\n",
    "annotation_path = os.path.join(trace_dir, f\"annotations/{annotator}.pickle\")\n",
    "with open(annotation_path, \"wb\") as file:\n",
    "    pickle.dump(annotation, file)\n",
    "print(f\"📦 Saved annotation to: {annotation_path}\")\n",
    "\n",
    "# Display progress\n",
    "print(f\"📊 Progress: {len(annotation)} annotated / {len(sampled_pairs) - len(annotation)} remaining\")"
   ]
  },
  {
   "cell_type": "markdown",
   "metadata": {},
   "source": [
    "# Evaluate Agreement Between Two Annotators"
   ]
  },
  {
   "cell_type": "code",
   "execution_count": null,
   "metadata": {},
   "outputs": [],
   "source": [
    "from glob import glob\n",
    "import pickle\n",
    "from sklearn.metrics import cohen_kappa_score\n",
    "\n",
    "def load_annotation(name, annotations_dir):\n",
    "    path = os.path.join(annotations_dir, f\"{name}.pickle\")\n",
    "    if not os.path.isfile(path):\n",
    "        raise FileNotFoundError(f\"Annotation file not found: {path}\")\n",
    "    with open(path, \"rb\") as file:\n",
    "        return pickle.load(file)\n",
    "\n",
    "def select_two_annotators(trace_dir):\n",
    "    annotations_dir = os.path.join(trace_dir, \"annotations\")\n",
    "    existing_files = sorted(glob(os.path.join(annotations_dir, \"annotator_*.pickle\")))\n",
    "    existing_annotators = [os.path.splitext(os.path.basename(f))[0] for f in existing_files]\n",
    "\n",
    "    if len(existing_annotators) < 2:\n",
    "        raise RuntimeError(\"❌ Fewer than two annotators found. Please complete at least two annotations before measuring agreement.\")\n",
    "\n",
    "    elif len(existing_annotators) == 2:\n",
    "        print(f\"\\n📋 Exactly two annotators found: {existing_annotators[0]} and {existing_annotators[1]}\")\n",
    "        return existing_annotators[0], existing_annotators[1]\n",
    "\n",
    "    else:\n",
    "        print(\"\\n📋 Available annotators:\")\n",
    "        for idx, name in enumerate(existing_annotators, start=1):\n",
    "            print(f\"  [{idx}] {name}\")\n",
    "\n",
    "        while True:\n",
    "            try:\n",
    "                idx1 = int(input(\"Select the first annotator by number: \").strip())\n",
    "                idx2 = int(input(\"Select the second annotator by number: \").strip())\n",
    "                if idx1 != idx2 and 1 <= idx1 <= len(existing_annotators) and 1 <= idx2 <= len(existing_annotators):\n",
    "                    return existing_annotators[idx1 - 1], existing_annotators[idx2 - 1]\n",
    "                else:\n",
    "                    print(\"❌ Invalid selection. Make sure to choose two different annotators.\")\n",
    "            except ValueError:\n",
    "                print(\"❌ Invalid input. Please enter numeric value.\")\n",
    "\n",
    "def compute_annotator_agreement(trace_dir):\n",
    "    a1_name, a2_name = select_two_annotators(trace_dir)\n",
    "    print(f\"\\n🔍 Comparing annotations from: {a1_name} and {a2_name}\")\n",
    "\n",
    "    a1 = load_annotation(a1_name, os.path.join(trace_dir, \"annotations\"))\n",
    "    a2 = load_annotation(a2_name, os.path.join(trace_dir, \"annotations\"))\n",
    "\n",
    "    if not len(a1) == len(sampled_pairs) or not len(a2) == len(sampled_pairs):\n",
    "        print(f\"⚠️ {a1_name} has completed {len(a1)} out of {len(sampled_pairs)} annotations.\")\n",
    "        print(f\"⚠️ {a2_name} has completed {len(a2)} out of {len(sampled_pairs)} annotations.\")\n",
    "        raise ValueError(\"❌ Both annotators must complete all sampled pairs before comparison.\")\n",
    "\n",
    "    common_pairs = set(a1.keys()) & set(a2.keys())\n",
    "    if not common_pairs:\n",
    "        raise ValueError(\"❌ No common annotated pairs found between the selected annotators.\")\n",
    "\n",
    "    y1, y2, common_annotation = [], [], {}\n",
    "    for pair in common_pairs:\n",
    "        y1.append(a1[pair])\n",
    "        y2.append(a2[pair])\n",
    "        if a1[pair] == a2[pair]:\n",
    "            common_annotation[pair] = a1[pair]\n",
    "\n",
    "    agreement = sum([i == j for i, j in zip(y1, y2)]) / len(y1)\n",
    "    kappa = cohen_kappa_score(y1, y2)\n",
    "\n",
    "    print(f\"\\n✅ Completed agreement analysis.\")\n",
    "    print(f\"  Number of common annotated pairs: {len(common_pairs)}\")\n",
    "    print(f\"  Exact agreement: {agreement * 100:.1f}%\")\n",
    "    print(f\"  Cohen’s Kappa: {kappa:.2f}\")\n",
    "    \n",
    "    return common_annotation\n",
    "\n",
    "# Run agreement analysis\n",
    "final_annotation = compute_annotator_agreement(trace_dir)"
   ]
  },
  {
   "cell_type": "markdown",
   "metadata": {},
   "source": [
    "# Resolve Disagreements\n",
    "\n",
    "> Manually loop through the cell below 🔽"
   ]
  },
  {
   "cell_type": "code",
   "execution_count": null,
   "metadata": {},
   "outputs": [],
   "source": [
    "from utils import *\n",
    "\n",
    "id_1, id_2 = get_next_unannotated_pair(sampled_pairs, final_annotation)\n",
    "\n",
    "# Exit loop if all pairs are annotated\n",
    "if (id_1, id_2) == (None, None):\n",
    "    print(\"✅ Completed resolving disagreements!\")\n",
    "    raise StopIteration(\"No more pairs to annotate.\")\n",
    "\n",
    "display_metadata_and_videos([id_1, id_2], metadata, trace_dir)\n",
    "\n",
    "# Collect annotation input\n",
    "response = valid_input([\"yes\", \"no\"], prompt=\"Are the two videos similar? [yes/no]: \")\n",
    "final_annotation[(id_1, id_2)] = (response == \"yes\")\n",
    "\n",
    "# Save annotation\n",
    "annotation_path = os.path.join(trace_dir, f\"annotations/final_annotation.pickle\")\n",
    "with open(annotation_path, \"wb\") as file:\n",
    "    pickle.dump(final_annotation, file)\n",
    "print(f\"📦 Saved common annotation to: {annotation_path}\")\n",
    "\n",
    "# Display progress\n",
    "print(f\"📊 Progress: {len(final_annotation)} annotated / {len(sampled_pairs) - len(final_annotation)} remaining\")"
   ]
  }
 ],
 "metadata": {
  "colab": {
   "authorship_tag": "ABX9TyPBhu7w06285Xj1IzCiklah",
   "provenance": [],
   "toc_visible": true
  },
  "kernelspec": {
   "display_name": "clipmind",
   "language": "python",
   "name": "python3"
  },
  "language_info": {
   "codemirror_mode": {
    "name": "ipython",
    "version": 3
   },
   "file_extension": ".py",
   "mimetype": "text/x-python",
   "name": "python",
   "nbconvert_exporter": "python",
   "pygments_lexer": "ipython3",
   "version": "3.9.19"
  }
 },
 "nbformat": 4,
 "nbformat_minor": 0
}
